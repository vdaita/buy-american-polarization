{
 "cells": [
  {
   "cell_type": "code",
   "execution_count": 1,
   "metadata": {},
   "outputs": [],
   "source": [
    "import pandas as pd\n",
    "from tqdm import tqdm\n",
    "from rapidfuzz import fuzz"
   ]
  },
  {
   "cell_type": "code",
   "execution_count": 2,
   "metadata": {},
   "outputs": [
    {
     "name": "stderr",
     "output_type": "stream",
     "text": [
      "/var/folders/rw/s7c9z30x7fj_2gcngv0yhv6w0000gn/T/ipykernel_44360/3365711601.py:1: DtypeWarning: Columns (300,304,325,328) have mixed types. Specify dtype option on import or set low_memory=False.\n",
      "  website_df = pd.read_csv(\"website_data.csv\")\n"
     ]
    }
   ],
   "source": [
    "website_df = pd.read_csv(\"website_data.csv\")\n",
    "selected_cols = reversed([col for col in website_df.columns if col.startswith(\"1\") or col.startswith(\"2\")])\n",
    "website_df = website_df[selected_cols]"
   ]
  },
  {
   "cell_type": "code",
   "execution_count": 3,
   "metadata": {},
   "outputs": [
    {
     "name": "stderr",
     "output_type": "stream",
     "text": [
      "[nltk_data] Downloading package stopwords to /Users/vijay/nltk_data...\n",
      "[nltk_data]   Package stopwords is already up-to-date!\n",
      "100%|██████████| 318/318 [00:23<00:00, 13.36it/s]\n"
     ]
    }
   ],
   "source": [
    "import nltk\n",
    "from nltk.corpus import stopwords\n",
    "\n",
    "nltk.download('stopwords')\n",
    "\n",
    "stop_words = set(stopwords.words('english'))\n",
    "\n",
    "def remove_stopwords(text):\n",
    "    if isinstance(text, str):\n",
    "        return ' '.join([word for word in text.split() if word.lower() not in stop_words])\n",
    "    return text\n",
    "\n",
    "for col in tqdm(website_df.select_dtypes(include=['object']).columns):\n",
    "    website_df[col] = website_df[col].apply(remove_stopwords)"
   ]
  },
  {
   "cell_type": "code",
   "execution_count": null,
   "metadata": {},
   "outputs": [
    {
     "name": "stderr",
     "output_type": "stream",
     "text": [
      "/var/folders/rw/s7c9z30x7fj_2gcngv0yhv6w0000gn/T/ipykernel_18665/4171444177.py:5: FutureWarning: Downcasting object dtype arrays on .fillna, .ffill, .bfill is deprecated and will change in a future version. Call result.infer_objects(copy=False) instead. To opt-in to the future behavior, set `pd.set_option('future.no_silent_downcasting', True)`\n",
      "  df = df.T.ffill(axis=0).T  # Forward fill NaN values\n"
     ]
    }
   ],
   "source": [
    "import numpy as np\n",
    "def propagate_str_value_forward(df):\n",
    "    df = df.copy()\n",
    "    df.replace('', np.nan, inplace=True)  # Replace empty strings with NaN\n",
    "    df = df.T.ffill(axis=0).T  # Forward fill NaN values\n",
    "    df.fillna('', inplace=True)  # Fill remaining NaN with empty strings\n",
    "    return df\n",
    "website_df = propagate_str_value_forward(website_df)"
   ]
  },
  {
   "cell_type": "code",
   "execution_count": 13,
   "metadata": {},
   "outputs": [
    {
     "name": "stderr",
     "output_type": "stream",
     "text": [
      "100%|██████████| 500/500 [00:05<00:00, 88.04it/s]\n",
      "100%|██████████| 5189/5189 [00:01<00:00, 4528.34it/s]\n"
     ]
    },
    {
     "name": "stdout",
     "output_type": "stream",
     "text": [
      "Year 2007 score: 0.04686104764864288\n"
     ]
    },
    {
     "name": "stderr",
     "output_type": "stream",
     "text": [
      "100%|██████████| 500/500 [00:07<00:00, 65.67it/s]\n",
      "100%|██████████| 5189/5189 [00:01<00:00, 4525.30it/s]\n"
     ]
    },
    {
     "name": "stdout",
     "output_type": "stream",
     "text": [
      "Year 2008 score: 0.05117600521372998\n"
     ]
    },
    {
     "name": "stderr",
     "output_type": "stream",
     "text": [
      "100%|██████████| 500/500 [00:05<00:00, 84.99it/s]\n",
      "100%|██████████| 5189/5189 [00:01<00:00, 4544.50it/s]\n"
     ]
    },
    {
     "name": "stdout",
     "output_type": "stream",
     "text": [
      "Year 2009 score: 0.03167038117492163\n"
     ]
    },
    {
     "name": "stderr",
     "output_type": "stream",
     "text": [
      "100%|██████████| 500/500 [00:09<00:00, 54.50it/s]\n",
      "100%|██████████| 5189/5189 [00:01<00:00, 4380.60it/s]\n"
     ]
    },
    {
     "name": "stdout",
     "output_type": "stream",
     "text": [
      "Year 2010 score: 0.025321035474442026\n"
     ]
    },
    {
     "name": "stderr",
     "output_type": "stream",
     "text": [
      "100%|██████████| 500/500 [00:13<00:00, 36.25it/s]\n",
      "100%|██████████| 5189/5189 [00:01<00:00, 4268.27it/s]\n"
     ]
    },
    {
     "name": "stdout",
     "output_type": "stream",
     "text": [
      "Year 2011 score: 0.022924491553959165\n"
     ]
    },
    {
     "name": "stderr",
     "output_type": "stream",
     "text": [
      "100%|██████████| 500/500 [00:10<00:00, 49.06it/s]\n",
      "100%|██████████| 5189/5189 [00:01<00:00, 4687.65it/s]\n"
     ]
    },
    {
     "name": "stdout",
     "output_type": "stream",
     "text": [
      "Year 2012 score: 0.021475161759782087\n"
     ]
    },
    {
     "name": "stderr",
     "output_type": "stream",
     "text": [
      "100%|██████████| 500/500 [00:12<00:00, 40.51it/s]\n",
      "100%|██████████| 5189/5189 [00:01<00:00, 4449.05it/s]\n"
     ]
    },
    {
     "name": "stdout",
     "output_type": "stream",
     "text": [
      "Year 2013 score: 0.027734338556535284\n"
     ]
    },
    {
     "name": "stderr",
     "output_type": "stream",
     "text": [
      "100%|██████████| 500/500 [00:21<00:00, 23.20it/s]\n",
      "100%|██████████| 5189/5189 [00:01<00:00, 4459.57it/s]\n"
     ]
    },
    {
     "name": "stdout",
     "output_type": "stream",
     "text": [
      "Year 2014 score: 0.025805452739728216\n"
     ]
    },
    {
     "name": "stderr",
     "output_type": "stream",
     "text": [
      "100%|██████████| 500/500 [00:18<00:00, 26.50it/s]\n",
      "100%|██████████| 5189/5189 [00:01<00:00, 4281.53it/s]\n"
     ]
    },
    {
     "name": "stdout",
     "output_type": "stream",
     "text": [
      "Year 2015 score: 0.03329616598831347\n"
     ]
    },
    {
     "name": "stderr",
     "output_type": "stream",
     "text": [
      "100%|██████████| 500/500 [00:15<00:00, 32.05it/s]\n",
      "100%|██████████| 5189/5189 [00:01<00:00, 4335.34it/s]\n"
     ]
    },
    {
     "name": "stdout",
     "output_type": "stream",
     "text": [
      "Year 2016 score: 0.03644734886589205\n"
     ]
    },
    {
     "name": "stderr",
     "output_type": "stream",
     "text": [
      "100%|██████████| 500/500 [00:17<00:00, 29.37it/s]\n",
      "100%|██████████| 5189/5189 [00:01<00:00, 4310.84it/s]\n"
     ]
    },
    {
     "name": "stdout",
     "output_type": "stream",
     "text": [
      "Year 2017 score: 0.06477625950376927\n"
     ]
    },
    {
     "name": "stderr",
     "output_type": "stream",
     "text": [
      "100%|██████████| 500/500 [00:18<00:00, 27.43it/s]\n",
      "100%|██████████| 5189/5189 [00:01<00:00, 4345.18it/s]\n"
     ]
    },
    {
     "name": "stdout",
     "output_type": "stream",
     "text": [
      "Year 2018 score: 0.06695519808942724\n"
     ]
    },
    {
     "name": "stderr",
     "output_type": "stream",
     "text": [
      "100%|██████████| 500/500 [00:18<00:00, 26.37it/s]\n",
      "100%|██████████| 5189/5189 [00:01<00:00, 4293.02it/s]\n"
     ]
    },
    {
     "name": "stdout",
     "output_type": "stream",
     "text": [
      "Year 2019 score: 0.09053136314053398\n"
     ]
    },
    {
     "name": "stderr",
     "output_type": "stream",
     "text": [
      "100%|██████████| 500/500 [00:26<00:00, 18.93it/s]\n",
      "100%|██████████| 5189/5189 [00:01<00:00, 4088.08it/s]"
     ]
    },
    {
     "name": "stdout",
     "output_type": "stream",
     "text": [
      "Year 2020 score: 0.10484557784836673\n"
     ]
    },
    {
     "name": "stderr",
     "output_type": "stream",
     "text": [
      "\n"
     ]
    }
   ],
   "source": [
    "import re\n",
    "\n",
    "session_year_map = {2007: 110, 2008: 110, 2009: 111, 2010: 111, 2011: 112, 2012: 112, 2013: 113, 2014: 113, 2015: 114, 2016: 114, 2017: 115, 2018: 115, 2019: 116, 2020: 116}\n",
    "normalized_session_scores = []\n",
    "\n",
    "for year in session_year_map:\n",
    "    session = session_year_map[year]\n",
    "    keywords_df = pd.read_csv(f\"Partisan Index/{session}_congress_alpha_beta.csv\")\n",
    "    clean_phrases = keywords_df[\"phrase_clean\"]\n",
    "    clean_phrases = clean_phrases.dropna()\n",
    "    \n",
    "    year_score = 0\n",
    "\n",
    "    valid_columns = [col for col in website_df.columns if str(year) in col]\n",
    "    subset = website_df[valid_columns[-1]] # select the last value within a given year\n",
    "\n",
    "    websites_count = subset.count()\n",
    "\n",
    "    subset = subset.fillna(\"\")\n",
    "    subset = subset.astype(str)\n",
    "\n",
    "    phrase_count = pd.DataFrame(0, index=website_df.index, columns=keywords_df[\"phrase_clean\"])\n",
    "    for phrase in tqdm(clean_phrases, total=len(clean_phrases)):\n",
    "        pattern = re.escape(phrase)\n",
    "        phrase_count[phrase] = subset.str.count(pattern, flags=re.IGNORECASE)\n",
    "\n",
    "    y_n_denominator = sum(beta * beta for beta in keywords_df[\"beta\"])\n",
    "\n",
    "    for website in tqdm(phrase_count.index):\n",
    "        website_stats = phrase_count.loc[website]\n",
    "        phrase_count_sum = website_stats.sum()\n",
    "        if phrase_count_sum == 0:\n",
    "            continue\n",
    "        y_n_numerator = 0\n",
    "        for phrase, beta, alpha in zip(keywords_df[\"phrase_clean\"], keywords_df[\"beta\"], keywords_df[\"alpha\"]):\n",
    "            y_n_numerator += beta * (website_stats[phrase] / phrase_count_sum - alpha)\n",
    "        year_score += y_n_numerator / y_n_denominator\n",
    "\n",
    "    normalized_session_scores.append(year_score / websites_count)\n",
    "    print(f\"Year {year} score: {year_score / websites_count}\")\n",
    "    "
   ]
  },
  {
   "cell_type": "code",
   "execution_count": 16,
   "metadata": {},
   "outputs": [
    {
     "data": {
      "image/png": "[encoded data removed]",
      "text/plain": [
       "<Figure size 1000x600 with 1 Axes>"
      ]
     },
     "metadata": {},
     "output_type": "display_data"
    }
   ],
   "source": [
    "import matplotlib.pyplot as plt\n",
    "\n",
    "# Plotting the normalized session scores\n",
    "plt.figure(figsize=(10, 6))\n",
    "plt.plot(list(session_year_map.keys()), normalized_session_scores, marker='o')\n",
    "plt.xlabel('Congress Session')\n",
    "plt.ylabel('Normalized Session Score')\n",
    "plt.title('Normalized Session Scores by Year')\n",
    "plt.grid(True)\n",
    "plt.show()"
   ]
  }
 ],
 "metadata": {
  "kernelspec": {
   "display_name": "research",
   "language": "python",
   "name": "python3"
  },
  "language_info": {
   "codemirror_mode": {
    "name": "ipython",
    "version": 3
   },
   "file_extension": ".py",
   "mimetype": "text/x-python",
   "name": "python",
   "nbconvert_exporter": "python",
   "pygments_lexer": "ipython3",
   "version": "3.12.3"
  }
 },
 "nbformat": 4,
 "nbformat_minor": 2
}
