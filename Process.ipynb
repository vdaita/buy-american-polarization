{
 "cells": [
  {
   "cell_type": "code",
   "execution_count": 2,
   "metadata": {},
   "outputs": [],
   "source": [
    "import pandas as pd\n",
    "from tqdm import tqdm\n",
    "from rapidfuzz import fuzz"
   ]
  },
  {
   "cell_type": "code",
   "execution_count": null,
   "metadata": {},
   "outputs": [],
   "source": [
    "website_df = pd.read_csv(\"website_data_with_classifications.csv\")"
   ]
  },
  {
   "cell_type": "code",
   "execution_count": null,
   "metadata": {},
   "outputs": [
    {
     "data": {
      "text/html": [
       "<div>\n",
       "<style scoped>\n",
       "    .dataframe tbody tr th:only-of-type {\n",
       "        vertical-align: middle;\n",
       "    }\n",
       "\n",
       "    .dataframe tbody tr th {\n",
       "        vertical-align: top;\n",
       "    }\n",
       "\n",
       "    .dataframe thead th {\n",
       "        text-align: right;\n",
       "    }\n",
       "</style>\n",
       "<table border=\"1\" class=\"dataframe\">\n",
       "  <thead>\n",
       "    <tr style=\"text-align: right;\">\n",
       "      <th></th>\n",
       "      <th>1996-10</th>\n",
       "      <th>1996-11</th>\n",
       "      <th>1996-12</th>\n",
       "      <th>1997-01</th>\n",
       "      <th>1997-02</th>\n",
       "      <th>1997-03</th>\n",
       "      <th>1997-04</th>\n",
       "      <th>1997-05</th>\n",
       "      <th>1997-06</th>\n",
       "      <th>1997-07</th>\n",
       "      <th>...</th>\n",
       "      <th>2023-02</th>\n",
       "      <th>2023-03</th>\n",
       "      <th>2023-04</th>\n",
       "      <th>2023-05</th>\n",
       "      <th>2023-06</th>\n",
       "      <th>2023-07</th>\n",
       "      <th>2023-08</th>\n",
       "      <th>2023-09</th>\n",
       "      <th>2023-10</th>\n",
       "      <th>category</th>\n",
       "    </tr>\n",
       "  </thead>\n",
       "  <tbody>\n",
       "    <tr>\n",
       "      <th>0</th>\n",
       "      <td>NaN</td>\n",
       "      <td>NaN</td>\n",
       "      <td>NaN</td>\n",
       "      <td>NaN</td>\n",
       "      <td>NaN</td>\n",
       "      <td>NaN</td>\n",
       "      <td>NaN</td>\n",
       "      <td>NaN</td>\n",
       "      <td>NaN</td>\n",
       "      <td>NaN</td>\n",
       "      <td>...</td>\n",
       "      <td>Gifts Men | 11 Industries | Gentleman's Genera...</td>\n",
       "      <td>Gifts Men | 11 Industries | Gentleman's Genera...</td>\n",
       "      <td>Gifts Men | 11 Industries | Gentleman's Genera...</td>\n",
       "      <td>Gifts Men | 11 Industries | Gentleman's Genera...</td>\n",
       "      <td>Gifts Men | 11 Industries | Gentleman's Genera...</td>\n",
       "      <td>Gifts Men | 11 Industries | Gentleman's Genera...</td>\n",
       "      <td>Gifts Men | 11 Industries | Gentleman's Genera...</td>\n",
       "      <td>Gifts Men | 11 Industries | Gentleman's Genera...</td>\n",
       "      <td>Gifts Men | 11 Industries | Gentleman's Genera...</td>\n",
       "      <td>5651.0</td>\n",
       "    </tr>\n",
       "    <tr>\n",
       "      <th>1</th>\n",
       "      <td>NaN</td>\n",
       "      <td>NaN</td>\n",
       "      <td>NaN</td>\n",
       "      <td>NaN</td>\n",
       "      <td>NaN</td>\n",
       "      <td>NaN</td>\n",
       "      <td>NaN</td>\n",
       "      <td>NaN</td>\n",
       "      <td>NaN</td>\n",
       "      <td>NaN</td>\n",
       "      <td>...</td>\n",
       "      <td>Distillery | 11 Wells Distillery | Saint Paul ...</td>\n",
       "      <td>Distillery | 11 Wells Distillery | Saint Paul ...</td>\n",
       "      <td>Distillery | 11 Wells Distillery | Saint Paul ...</td>\n",
       "      <td>Distillery | 11 Wells Distillery | Saint Paul ...</td>\n",
       "      <td>Distillery | 11 Wells Distillery | Saint Paul ...</td>\n",
       "      <td>Distillery | 11 Wells Distillery | Saint Paul ...</td>\n",
       "      <td>Distillery | 11 Wells Distillery | Saint Paul ...</td>\n",
       "      <td>Distillery | 11 Wells Distillery | Saint Paul ...</td>\n",
       "      <td>Distillery | 11 Wells Distillery | Saint Paul ...</td>\n",
       "      <td>2082.0</td>\n",
       "    </tr>\n",
       "    <tr>\n",
       "      <th>2</th>\n",
       "      <td>NaN</td>\n",
       "      <td>NaN</td>\n",
       "      <td>NaN</td>\n",
       "      <td>NaN</td>\n",
       "      <td>NaN</td>\n",
       "      <td>NaN</td>\n",
       "      <td>NaN</td>\n",
       "      <td>NaN</td>\n",
       "      <td>NaN</td>\n",
       "      <td>NaN</td>\n",
       "      <td>...</td>\n",
       "      <td>14th Rose - Handbags, Purses, Woman's Bags Fre...</td>\n",
       "      <td>14th Rose - Handbags, Purses, Woman's Bags Fre...</td>\n",
       "      <td>14th Rose - Handbags, Purses, Woman's Bags Fre...</td>\n",
       "      <td>14th Rose - Handbags, Purses, Woman's Bags Fre...</td>\n",
       "      <td>14th Rose - Handbags, Purses, Woman's Bags Fre...</td>\n",
       "      <td>14th Rose - Handbags, Purses, Woman's Bags Fre...</td>\n",
       "      <td>14th Rose - Handbags, Purses, Woman's Bags Fre...</td>\n",
       "      <td>14th Rose - Handbags, Purses, Woman's Bags Fre...</td>\n",
       "      <td>14th Rose - Handbags, Purses, Woman's Bags Fre...</td>\n",
       "      <td>3799.0</td>\n",
       "    </tr>\n",
       "    <tr>\n",
       "      <th>3</th>\n",
       "      <td>NaN</td>\n",
       "      <td>NaN</td>\n",
       "      <td>Welcome Regal Ware, Inc. global leader quality...</td>\n",
       "      <td>Welcome Regal Ware, Inc. global leader quality...</td>\n",
       "      <td>Welcome Regal Ware, Inc. global leader quality...</td>\n",
       "      <td>Welcome Regal Ware, Inc. global leader quality...</td>\n",
       "      <td>Welcome Regal Ware, Inc. global leader quality...</td>\n",
       "      <td>Welcome Regal Ware, Inc. global leader quality...</td>\n",
       "      <td>Welcome Regal Ware, Inc. global leader quality...</td>\n",
       "      <td>Welcome Regal Ware, Inc. global leader quality...</td>\n",
       "      <td>...</td>\n",
       "      <td>Regal Ware | Enriching Life Bringing Families ...</td>\n",
       "      <td>Regal Ware | Enriching Life Bringing Families ...</td>\n",
       "      <td>Regal Ware | Enriching Life Bringing Families ...</td>\n",
       "      <td>Regal Ware | Enriching Life Bringing Families ...</td>\n",
       "      <td>Regal Ware | Enriching Life Bringing Families ...</td>\n",
       "      <td>Home - Regal Ware Work Core Values Story Leade...</td>\n",
       "      <td>Home - Regal Ware Work Core Values Story Leade...</td>\n",
       "      <td>Home - Regal Ware Work Core Values Story Leade...</td>\n",
       "      <td>Home - Regal Ware Work Core Values Story Leade...</td>\n",
       "      <td>5082.0</td>\n",
       "    </tr>\n",
       "    <tr>\n",
       "      <th>4</th>\n",
       "      <td>NaN</td>\n",
       "      <td>NaN</td>\n",
       "      <td>NaN</td>\n",
       "      <td>NaN</td>\n",
       "      <td>NaN</td>\n",
       "      <td>NaN</td>\n",
       "      <td>NaN</td>\n",
       "      <td>NaN</td>\n",
       "      <td>NaN</td>\n",
       "      <td>NaN</td>\n",
       "      <td>...</td>\n",
       "      <td>Custom Swim Parkas Wholesale Fleece Jackets | ...</td>\n",
       "      <td>Custom Swim Parkas Wholesale Fleece Jackets | ...</td>\n",
       "      <td>Custom Swim Parkas Wholesale Fleece Jackets | ...</td>\n",
       "      <td>Custom Swim Parkas Wholesale Fleece Jackets | ...</td>\n",
       "      <td>Custom Swim Parkas Wholesale Fleece Jackets | ...</td>\n",
       "      <td>Custom Swim Parkas Wholesale Fleece Jackets | ...</td>\n",
       "      <td>Custom Swim Parkas Wholesale Fleece Jackets | ...</td>\n",
       "      <td>Custom Swim Parkas Wholesale Fleece Jackets | ...</td>\n",
       "      <td>Custom Swim Parkas Wholesale Fleece Jackets | ...</td>\n",
       "      <td>2369.0</td>\n",
       "    </tr>\n",
       "  </tbody>\n",
       "</table>\n",
       "<p>5 rows × 326 columns</p>\n",
       "</div>"
      ],
      "text/plain": [
       "  1996-10 1996-11                                            1996-12  \\\n",
       "0     NaN     NaN                                                NaN   \n",
       "1     NaN     NaN                                                NaN   \n",
       "2     NaN     NaN                                                NaN   \n",
       "3     NaN     NaN  Welcome Regal Ware, Inc. global leader quality...   \n",
       "4     NaN     NaN                                                NaN   \n",
       "\n",
       "                                             1997-01  \\\n",
       "0                                                NaN   \n",
       "1                                                NaN   \n",
       "2                                                NaN   \n",
       "3  Welcome Regal Ware, Inc. global leader quality...   \n",
       "4                                                NaN   \n",
       "\n",
       "                                             1997-02  \\\n",
       "0                                                NaN   \n",
       "1                                                NaN   \n",
       "2                                                NaN   \n",
       "3  Welcome Regal Ware, Inc. global leader quality...   \n",
       "4                                                NaN   \n",
       "\n",
       "                                             1997-03  \\\n",
       "0                                                NaN   \n",
       "1                                                NaN   \n",
       "2                                                NaN   \n",
       "3  Welcome Regal Ware, Inc. global leader quality...   \n",
       "4                                                NaN   \n",
       "\n",
       "                                             1997-04  \\\n",
       "0                                                NaN   \n",
       "1                                                NaN   \n",
       "2                                                NaN   \n",
       "3  Welcome Regal Ware, Inc. global leader quality...   \n",
       "4                                                NaN   \n",
       "\n",
       "                                             1997-05  \\\n",
       "0                                                NaN   \n",
       "1                                                NaN   \n",
       "2                                                NaN   \n",
       "3  Welcome Regal Ware, Inc. global leader quality...   \n",
       "4                                                NaN   \n",
       "\n",
       "                                             1997-06  \\\n",
       "0                                                NaN   \n",
       "1                                                NaN   \n",
       "2                                                NaN   \n",
       "3  Welcome Regal Ware, Inc. global leader quality...   \n",
       "4                                                NaN   \n",
       "\n",
       "                                             1997-07  ...  \\\n",
       "0                                                NaN  ...   \n",
       "1                                                NaN  ...   \n",
       "2                                                NaN  ...   \n",
       "3  Welcome Regal Ware, Inc. global leader quality...  ...   \n",
       "4                                                NaN  ...   \n",
       "\n",
       "                                             2023-02  \\\n",
       "0  Gifts Men | 11 Industries | Gentleman's Genera...   \n",
       "1  Distillery | 11 Wells Distillery | Saint Paul ...   \n",
       "2  14th Rose - Handbags, Purses, Woman's Bags Fre...   \n",
       "3  Regal Ware | Enriching Life Bringing Families ...   \n",
       "4  Custom Swim Parkas Wholesale Fleece Jackets | ...   \n",
       "\n",
       "                                             2023-03  \\\n",
       "0  Gifts Men | 11 Industries | Gentleman's Genera...   \n",
       "1  Distillery | 11 Wells Distillery | Saint Paul ...   \n",
       "2  14th Rose - Handbags, Purses, Woman's Bags Fre...   \n",
       "3  Regal Ware | Enriching Life Bringing Families ...   \n",
       "4  Custom Swim Parkas Wholesale Fleece Jackets | ...   \n",
       "\n",
       "                                             2023-04  \\\n",
       "0  Gifts Men | 11 Industries | Gentleman's Genera...   \n",
       "1  Distillery | 11 Wells Distillery | Saint Paul ...   \n",
       "2  14th Rose - Handbags, Purses, Woman's Bags Fre...   \n",
       "3  Regal Ware | Enriching Life Bringing Families ...   \n",
       "4  Custom Swim Parkas Wholesale Fleece Jackets | ...   \n",
       "\n",
       "                                             2023-05  \\\n",
       "0  Gifts Men | 11 Industries | Gentleman's Genera...   \n",
       "1  Distillery | 11 Wells Distillery | Saint Paul ...   \n",
       "2  14th Rose - Handbags, Purses, Woman's Bags Fre...   \n",
       "3  Regal Ware | Enriching Life Bringing Families ...   \n",
       "4  Custom Swim Parkas Wholesale Fleece Jackets | ...   \n",
       "\n",
       "                                             2023-06  \\\n",
       "0  Gifts Men | 11 Industries | Gentleman's Genera...   \n",
       "1  Distillery | 11 Wells Distillery | Saint Paul ...   \n",
       "2  14th Rose - Handbags, Purses, Woman's Bags Fre...   \n",
       "3  Regal Ware | Enriching Life Bringing Families ...   \n",
       "4  Custom Swim Parkas Wholesale Fleece Jackets | ...   \n",
       "\n",
       "                                             2023-07  \\\n",
       "0  Gifts Men | 11 Industries | Gentleman's Genera...   \n",
       "1  Distillery | 11 Wells Distillery | Saint Paul ...   \n",
       "2  14th Rose - Handbags, Purses, Woman's Bags Fre...   \n",
       "3  Home - Regal Ware Work Core Values Story Leade...   \n",
       "4  Custom Swim Parkas Wholesale Fleece Jackets | ...   \n",
       "\n",
       "                                             2023-08  \\\n",
       "0  Gifts Men | 11 Industries | Gentleman's Genera...   \n",
       "1  Distillery | 11 Wells Distillery | Saint Paul ...   \n",
       "2  14th Rose - Handbags, Purses, Woman's Bags Fre...   \n",
       "3  Home - Regal Ware Work Core Values Story Leade...   \n",
       "4  Custom Swim Parkas Wholesale Fleece Jackets | ...   \n",
       "\n",
       "                                             2023-09  \\\n",
       "0  Gifts Men | 11 Industries | Gentleman's Genera...   \n",
       "1  Distillery | 11 Wells Distillery | Saint Paul ...   \n",
       "2  14th Rose - Handbags, Purses, Woman's Bags Fre...   \n",
       "3  Home - Regal Ware Work Core Values Story Leade...   \n",
       "4  Custom Swim Parkas Wholesale Fleece Jackets | ...   \n",
       "\n",
       "                                             2023-10 category  \n",
       "0  Gifts Men | 11 Industries | Gentleman's Genera...   5651.0  \n",
       "1  Distillery | 11 Wells Distillery | Saint Paul ...   2082.0  \n",
       "2  14th Rose - Handbags, Purses, Woman's Bags Fre...   3799.0  \n",
       "3  Home - Regal Ware Work Core Values Story Leade...   5082.0  \n",
       "4  Custom Swim Parkas Wholesale Fleece Jackets | ...   2369.0  \n",
       "\n",
       "[5 rows x 326 columns]"
      ]
     },
     "execution_count": 4,
     "metadata": {},
     "output_type": "execute_result"
    }
   ],
   "source": [
    "website_df.head()"
   ]
  },
  {
   "cell_type": "code",
   "execution_count": null,
   "metadata": {},
   "outputs": [
    {
     "data": {
      "text/plain": [
       "4309"
      ]
     },
     "execution_count": 5,
     "metadata": {},
     "output_type": "execute_result"
    }
   ],
   "source": [
    "website_df[\"category\"].count()"
   ]
  },
  {
   "cell_type": "code",
   "execution_count": null,
   "metadata": {},
   "outputs": [],
   "source": []
  },
  {
   "cell_type": "code",
   "execution_count": null,
   "metadata": {},
   "outputs": [],
   "source": [
    "classification_col = website_df[\"category\"]\n",
    "classification_col = pd.Series([(str(int(x))[:2] if not pd.isnull(x) else \"00\") for x in classification_col])"
   ]
  },
  {
   "cell_type": "code",
   "execution_count": null,
   "metadata": {},
   "outputs": [],
   "source": [
    "def ngram_text(text):\n",
    "    text = text.lower()\n",
    "    return [text[i:i+3] for i in range(0, len(text)-3+1)]\n"
   ]
  },
  {
   "cell_type": "code",
   "execution_count": null,
   "metadata": {},
   "outputs": [],
   "source": [
    "FUZZY_MODE = False"
   ]
  },
  {
   "cell_type": "code",
   "execution_count": null,
   "metadata": {},
   "outputs": [
    {
     "name": "stdout",
     "output_type": "stream",
     "text": [
      "Congress: 110   Value of Sum(beta_i * -alpha_i) / Sum(beta_i ^ 2):  0.5429763110878959\n",
      "Congress: 111   Value of Sum(beta_i * -alpha_i) / Sum(beta_i ^ 2):  0.537753560663196\n",
      "Congress: 112   Value of Sum(beta_i * -alpha_i) / Sum(beta_i ^ 2):  0.37690607211961086\n",
      "Congress: 113   Value of Sum(beta_i * -alpha_i) / Sum(beta_i ^ 2):  0.29778211844105384\n",
      "Congress: 114   Value of Sum(beta_i * -alpha_i) / Sum(beta_i ^ 2):  0.33861337237301475\n",
      "Congress: 115   Value of Sum(beta_i * -alpha_i) / Sum(beta_i ^ 2):  0.487109637502079\n",
      "Congress: 116   Value of Sum(beta_i * -alpha_i) / Sum(beta_i ^ 2):  0.43226759882950083\n"
     ]
    }
   ],
   "source": [
    "congresses = [110, 111, 112, 113, 114, 115, 116]\n",
    "default_values = {}\n",
    "for congress in congresses:\n",
    "    phrase_df = pd.read_csv(f\"Partisan Index/{congress}_congress_alpha_beta.csv\")\n",
    "    betas = phrase_df[\"beta\"].tolist()\n",
    "    alphas = phrase_df[\"alpha\"].tolist()\n",
    "\n",
    "    denominator = 0\n",
    "    numerator = 0\n",
    "    for (alpha, beta) in zip(alphas, betas):\n",
    "        numerator += beta * -alpha\n",
    "        denominator += beta * beta\n",
    "\n",
    "    default_values[congress] = numerator / denominator\n",
    "\n",
    "    print(f\"Congress: {congress} \", \" Value of Sum(beta_i * -alpha_i) / Sum(beta_i ^ 2): \", numerator/denominator)"
   ]
  },
  {
   "cell_type": "code",
   "execution_count": null,
   "metadata": {},
   "outputs": [],
   "source": [
    "for congress in default_values:\n",
    "    default_values[congress] = 0.49\n",
    "\n",
    "neutral = 0.5"
   ]
  },
  {
   "cell_type": "code",
   "execution_count": null,
   "metadata": {},
   "outputs": [
    {
     "name": "stdout",
     "output_type": "stream",
     "text": [
      "Keyword not found in DataFrame:  2011 credit card\n",
      "Keyword not found in DataFrame:  2012 credit card\n",
      "Keyword not found in DataFrame:  2013 credit card\n",
      "Keyword not found in DataFrame:  2014 credit card\n",
      "Keyword not found in DataFrame:  2015 credit card\n",
      "Keyword not found in DataFrame:  2015 air force\n",
      "Keyword not found in DataFrame:  2016 credit card\n",
      "Keyword not found in DataFrame:  2016 air force\n",
      "Keyword not found in DataFrame:  2017 credit card\n",
      "Keyword not found in DataFrame:  2018 credit card\n",
      "Keyword not found in DataFrame:  2019 credit card\n",
      "Keyword not found in DataFrame:  2019 air force\n",
      "Keyword not found in DataFrame:  2020 credit card\n",
      "Keyword not found in DataFrame:  2020 air force\n",
      "Last valid column:  2007-12\n",
      "Unavailable numerator / denominator:  0.5429763110878958\n"
     ]
    },
    {
     "name": "stderr",
     "output_type": "stream",
     "text": [
      "100%|██████████| 5189/5189 [00:01<00:00, 3721.17it/s]\n"
     ]
    },
    {
     "name": "stdout",
     "output_type": "stream",
     "text": [
      "Year 2007 score: 8.580760240185153\n",
      "Last valid column:  2008-12\n",
      "Unavailable numerator / denominator:  0.5429763110878958\n"
     ]
    },
    {
     "name": "stderr",
     "output_type": "stream",
     "text": [
      "100%|██████████| 5189/5189 [00:01<00:00, 4026.42it/s]\n"
     ]
    },
    {
     "name": "stdout",
     "output_type": "stream",
     "text": [
      "Year 2008 score: 8.307792846251573\n",
      "Last valid column:  2009-12\n",
      "Unavailable numerator / denominator:  0.5377535606631955\n"
     ]
    },
    {
     "name": "stderr",
     "output_type": "stream",
     "text": [
      " 30%|███       | 1568/5189 [00:00<00:00, 3970.82it/s]"
     ]
    },
    {
     "name": "stdout",
     "output_type": "stream",
     "text": [
      "846\n",
      "0      497\n",
      "1        1\n",
      "Name: count, dtype: int64\n"
     ]
    },
    {
     "name": "stderr",
     "output_type": "stream",
     "text": [
      "100%|██████████| 5189/5189 [00:01<00:00, 3926.79it/s]\n"
     ]
    },
    {
     "name": "stdout",
     "output_type": "stream",
     "text": [
      "Year 2009 score: 6.29366918991656\n",
      "Last valid column:  2010-12\n",
      "Unavailable numerator / denominator:  0.5377535606631955\n"
     ]
    },
    {
     "name": "stderr",
     "output_type": "stream",
     "text": [
      " 27%|██▋       | 1391/5189 [00:00<00:01, 3669.12it/s]"
     ]
    },
    {
     "name": "stdout",
     "output_type": "stream",
     "text": [
      "846\n",
      "0      497\n",
      "1        1\n",
      "Name: count, dtype: int64\n"
     ]
    },
    {
     "name": "stderr",
     "output_type": "stream",
     "text": [
      "100%|██████████| 5189/5189 [00:01<00:00, 3552.86it/s]\n"
     ]
    },
    {
     "name": "stdout",
     "output_type": "stream",
     "text": [
      "Year 2010 score: 5.647519878333227\n",
      "Last valid column:  2011-12\n",
      "Unavailable numerator / denominator:  0.37690607211960997\n"
     ]
    },
    {
     "name": "stderr",
     "output_type": "stream",
     "text": [
      "  6%|▋         | 331/5189 [00:00<00:01, 3309.18it/s]"
     ]
    },
    {
     "name": "stdout",
     "output_type": "stream",
     "text": [
      "580\n",
      "0      498\n",
      "1        1\n",
      "Name: count, dtype: int64\n"
     ]
    },
    {
     "name": "stderr",
     "output_type": "stream",
     "text": [
      " 74%|███████▍  | 3865/5189 [00:01<00:00, 3755.89it/s]"
     ]
    },
    {
     "name": "stdout",
     "output_type": "stream",
     "text": [
      "3119\n",
      "0       498\n",
      "2         1\n",
      "Name: count, dtype: int64\n"
     ]
    },
    {
     "name": "stderr",
     "output_type": "stream",
     "text": [
      " 90%|█████████ | 4678/5189 [00:01<00:00, 3913.07it/s]"
     ]
    },
    {
     "name": "stdout",
     "output_type": "stream",
     "text": [
      "4245\n",
      "0       498\n",
      "1         1\n",
      "Name: count, dtype: int64\n"
     ]
    },
    {
     "name": "stderr",
     "output_type": "stream",
     "text": [
      "100%|██████████| 5189/5189 [00:01<00:00, 3783.18it/s]\n"
     ]
    },
    {
     "name": "stdout",
     "output_type": "stream",
     "text": [
      "5147\n",
      "0       498\n",
      "1         1\n",
      "Name: count, dtype: int64\n",
      "Year 2011 score: 8.701688182088498\n",
      "Last valid column:  2012-12\n",
      "Unavailable numerator / denominator:  0.37690607211960997\n"
     ]
    },
    {
     "name": "stderr",
     "output_type": "stream",
     "text": [
      " 73%|███████▎  | 3770/5189 [00:01<00:00, 3964.68it/s]"
     ]
    },
    {
     "name": "stdout",
     "output_type": "stream",
     "text": [
      "3119\n",
      "0       498\n",
      "2         1\n",
      "Name: count, dtype: int64\n"
     ]
    },
    {
     "name": "stderr",
     "output_type": "stream",
     "text": [
      " 96%|█████████▌| 4985/5189 [00:01<00:00, 3920.58it/s]"
     ]
    },
    {
     "name": "stdout",
     "output_type": "stream",
     "text": [
      "4245\n",
      "0       498\n",
      "1         1\n",
      "Name: count, dtype: int64\n"
     ]
    },
    {
     "name": "stderr",
     "output_type": "stream",
     "text": [
      "100%|██████████| 5189/5189 [00:01<00:00, 3782.79it/s]\n"
     ]
    },
    {
     "name": "stdout",
     "output_type": "stream",
     "text": [
      "Year 2012 score: 7.151715172388647\n",
      "Last valid column:  2013-12\n",
      "Unavailable numerator / denominator:  0.29778211844105434\n"
     ]
    },
    {
     "name": "stderr",
     "output_type": "stream",
     "text": [
      "  4%|▎         | 188/5189 [00:00<00:02, 1870.72it/s]"
     ]
    },
    {
     "name": "stdout",
     "output_type": "stream",
     "text": [
      "235\n",
      "0      498\n",
      "1        1\n",
      "Name: count, dtype: int64\n",
      "437\n",
      "0      498\n",
      "3        1\n",
      "Name: count, dtype: int64\n"
     ]
    },
    {
     "name": "stderr",
     "output_type": "stream",
     "text": [
      " 16%|█▌        | 842/5189 [00:00<00:01, 2979.25it/s]"
     ]
    },
    {
     "name": "stdout",
     "output_type": "stream",
     "text": [
      "526\n",
      "0      498\n",
      "1        1\n",
      "Name: count, dtype: int64\n"
     ]
    },
    {
     "name": "stderr",
     "output_type": "stream",
     "text": [
      " 37%|███▋      | 1913/5189 [00:00<00:00, 3288.55it/s]"
     ]
    },
    {
     "name": "stdout",
     "output_type": "stream",
     "text": [
      "1705\n",
      "0       498\n",
      "1         1\n",
      "Name: count, dtype: int64\n"
     ]
    },
    {
     "name": "stderr",
     "output_type": "stream",
     "text": [
      " 54%|█████▍    | 2821/5189 [00:01<00:00, 2656.55it/s]"
     ]
    },
    {
     "name": "stdout",
     "output_type": "stream",
     "text": [
      "2475\n",
      "0       498\n",
      "1         1\n",
      "Name: count, dtype: int64\n",
      "2544\n",
      "0       498\n",
      "1         1\n",
      "Name: count, dtype: int64\n"
     ]
    },
    {
     "name": "stderr",
     "output_type": "stream",
     "text": [
      " 73%|███████▎  | 3808/5189 [00:01<00:00, 3072.22it/s]"
     ]
    },
    {
     "name": "stdout",
     "output_type": "stream",
     "text": [
      "3219\n",
      "0       498\n",
      "1         1\n",
      "Name: count, dtype: int64\n"
     ]
    },
    {
     "name": "stderr",
     "output_type": "stream",
     "text": [
      " 95%|█████████▍| 4927/5189 [00:01<00:00, 3524.14it/s]"
     ]
    },
    {
     "name": "stdout",
     "output_type": "stream",
     "text": [
      "4263\n",
      "0       498\n",
      "1         1\n",
      "Name: count, dtype: int64\n",
      "4750\n",
      "0       498\n",
      "1         1\n",
      "Name: count, dtype: int64\n",
      "4885\n",
      "0       498\n",
      "1         1\n",
      "Name: count, dtype: int64\n",
      "5036\n",
      "0       498\n",
      "1         1\n",
      "Name: count, dtype: int64\n"
     ]
    },
    {
     "name": "stderr",
     "output_type": "stream",
     "text": [
      "100%|██████████| 5189/5189 [00:01<00:00, 3042.02it/s]\n"
     ]
    },
    {
     "name": "stdout",
     "output_type": "stream",
     "text": [
      "Year 2013 score: 7.24092816896909\n",
      "Last valid column:  2014-12\n",
      "Unavailable numerator / denominator:  0.29778211844105434\n"
     ]
    },
    {
     "name": "stderr",
     "output_type": "stream",
     "text": [
      "  3%|▎         | 176/5189 [00:00<00:02, 1757.40it/s]"
     ]
    },
    {
     "name": "stdout",
     "output_type": "stream",
     "text": [
      "235\n",
      "0      498\n",
      "1        1\n",
      "Name: count, dtype: int64\n",
      "437\n",
      "0      498\n",
      "3        1\n",
      "Name: count, dtype: int64\n",
      "526\n",
      "0      498\n",
      "1        1\n",
      "Name: count, dtype: int64\n"
     ]
    },
    {
     "name": "stderr",
     "output_type": "stream",
     "text": [
      " 18%|█▊        | 925/5189 [00:00<00:01, 3295.56it/s]"
     ]
    },
    {
     "name": "stdout",
     "output_type": "stream",
     "text": [
      "662\n",
      "0      497\n",
      "1        1\n",
      "3        1\n",
      "Name: count, dtype: int64\n"
     ]
    },
    {
     "name": "stderr",
     "output_type": "stream",
     "text": [
      " 48%|████▊     | 2471/5189 [00:00<00:00, 3741.77it/s]"
     ]
    },
    {
     "name": "stdout",
     "output_type": "stream",
     "text": [
      "1705\n",
      "0       498\n",
      "1         1\n",
      "Name: count, dtype: int64\n",
      "1986\n",
      "0       498\n",
      "1         1\n",
      "Name: count, dtype: int64\n",
      "2475\n",
      "0       498\n",
      "1         1\n",
      "Name: count, dtype: int64\n",
      "2544\n",
      "0       498\n",
      "1         1\n",
      "Name: count, dtype: int64\n"
     ]
    },
    {
     "name": "stderr",
     "output_type": "stream",
     "text": [
      " 77%|███████▋  | 3984/5189 [00:01<00:00, 3505.19it/s]"
     ]
    },
    {
     "name": "stdout",
     "output_type": "stream",
     "text": [
      "3219\n",
      "0       498\n",
      "1         1\n",
      "Name: count, dtype: int64\n",
      "4105\n",
      "0       498\n",
      "1         1\n",
      "Name: count, dtype: int64\n"
     ]
    },
    {
     "name": "stderr",
     "output_type": "stream",
     "text": [
      " 99%|█████████▉| 5149/5189 [00:01<00:00, 3759.25it/s]"
     ]
    },
    {
     "name": "stdout",
     "output_type": "stream",
     "text": [
      "4263\n",
      "0       498\n",
      "1         1\n",
      "Name: count, dtype: int64\n",
      "4650\n",
      "0       498\n",
      "3         1\n",
      "Name: count, dtype: int64\n",
      "4750\n",
      "0       498\n",
      "1         1\n",
      "Name: count, dtype: int64\n"
     ]
    },
    {
     "name": "stderr",
     "output_type": "stream",
     "text": [
      "100%|██████████| 5189/5189 [00:01<00:00, 3470.68it/s]\n"
     ]
    },
    {
     "name": "stdout",
     "output_type": "stream",
     "text": [
      "Year 2014 score: 7.288229876082244\n",
      "Last valid column:  2015-12\n",
      "Unavailable numerator / denominator:  0.33861337237301475\n"
     ]
    },
    {
     "name": "stderr",
     "output_type": "stream",
     "text": [
      " 43%|████▎     | 2240/5189 [00:00<00:00, 3145.18it/s]"
     ]
    },
    {
     "name": "stdout",
     "output_type": "stream",
     "text": [
      "1747\n",
      "0       499\n",
      "1         1\n",
      "Name: count, dtype: int64\n"
     ]
    },
    {
     "name": "stderr",
     "output_type": "stream",
     "text": [
      " 94%|█████████▎| 4856/5189 [00:01<00:00, 3742.70it/s]"
     ]
    },
    {
     "name": "stdout",
     "output_type": "stream",
     "text": [
      "4362\n",
      "0       499\n",
      "1         1\n",
      "Name: count, dtype: int64\n",
      "5074\n",
      "0       499\n",
      "1         1\n",
      "Name: count, dtype: int64\n"
     ]
    },
    {
     "name": "stderr",
     "output_type": "stream",
     "text": [
      "100%|██████████| 5189/5189 [00:01<00:00, 3254.59it/s]\n"
     ]
    },
    {
     "name": "stdout",
     "output_type": "stream",
     "text": [
      "Year 2015 score: 5.44198095052901\n",
      "Last valid column:  2016-12\n",
      "Unavailable numerator / denominator:  0.33861337237301475\n"
     ]
    },
    {
     "name": "stderr",
     "output_type": "stream",
     "text": [
      " 85%|████████▌ | 4414/5189 [00:01<00:00, 3481.65it/s]"
     ]
    },
    {
     "name": "stdout",
     "output_type": "stream",
     "text": [
      "3930\n",
      "0       499\n",
      "1         1\n",
      "Name: count, dtype: int64\n",
      "4362\n",
      "0       499\n",
      "1         1\n",
      "Name: count, dtype: int64\n"
     ]
    },
    {
     "name": "stderr",
     "output_type": "stream",
     "text": [
      "100%|██████████| 5189/5189 [00:01<00:00, 3279.62it/s]\n"
     ]
    },
    {
     "name": "stdout",
     "output_type": "stream",
     "text": [
      "5074\n",
      "0       499\n",
      "1         1\n",
      "Name: count, dtype: int64\n",
      "Year 2016 score: 4.792071342171545\n",
      "Last valid column:  2017-12\n",
      "Unavailable numerator / denominator:  0.4871096375020792\n"
     ]
    },
    {
     "name": "stderr",
     "output_type": "stream",
     "text": [
      "  4%|▍         | 231/5189 [00:00<00:02, 2300.07it/s]"
     ]
    },
    {
     "name": "stdout",
     "output_type": "stream",
     "text": [
      "213\n",
      "0      498\n",
      "1        1\n",
      "Name: count, dtype: int64\n",
      "220\n",
      "0      498\n",
      "1        1\n",
      "Name: count, dtype: int64\n",
      "221\n",
      "0      498\n",
      "1        1\n",
      "Name: count, dtype: int64\n",
      "268\n",
      "0      498\n",
      "1        1\n",
      "Name: count, dtype: int64\n"
     ]
    },
    {
     "name": "stderr",
     "output_type": "stream",
     "text": [
      " 16%|█▌        | 832/5189 [00:00<00:01, 2850.86it/s]"
     ]
    },
    {
     "name": "stdout",
     "output_type": "stream",
     "text": [
      "578\n",
      "0      498\n",
      "1        1\n",
      "Name: count, dtype: int64\n",
      "663\n",
      "0      498\n",
      "1        1\n",
      "Name: count, dtype: int64\n"
     ]
    },
    {
     "name": "stderr",
     "output_type": "stream",
     "text": [
      " 23%|██▎       | 1180/5189 [00:00<00:01, 3098.54it/s]"
     ]
    },
    {
     "name": "stdout",
     "output_type": "stream",
     "text": [
      "933\n",
      "0      498\n",
      "1        1\n",
      "Name: count, dtype: int64\n",
      "934\n",
      "0      498\n",
      "1        1\n",
      "Name: count, dtype: int64\n",
      "999\n",
      "0      498\n",
      "1        1\n",
      "Name: count, dtype: int64\n",
      "1202\n",
      "0       498\n",
      "1         1\n",
      "Name: count, dtype: int64\n"
     ]
    },
    {
     "name": "stderr",
     "output_type": "stream",
     "text": [
      " 29%|██▉       | 1505/5189 [00:00<00:01, 3120.33it/s]"
     ]
    },
    {
     "name": "stdout",
     "output_type": "stream",
     "text": [
      "1445\n",
      "0       498\n",
      "1         1\n",
      "Name: count, dtype: int64\n"
     ]
    },
    {
     "name": "stderr",
     "output_type": "stream",
     "text": [
      " 35%|███▌      | 1818/5189 [00:00<00:01, 2884.86it/s]"
     ]
    },
    {
     "name": "stdout",
     "output_type": "stream",
     "text": [
      "1877\n",
      "0       498\n",
      "1         1\n",
      "Name: count, dtype: int64\n"
     ]
    },
    {
     "name": "stderr",
     "output_type": "stream",
     "text": [
      " 48%|████▊     | 2495/5189 [00:00<00:00, 3119.74it/s]"
     ]
    },
    {
     "name": "stdout",
     "output_type": "stream",
     "text": [
      "2313\n",
      "0       498\n",
      "1         1\n",
      "Name: count, dtype: int64\n",
      "2346\n",
      "0       497\n",
      "3         1\n",
      "11        1\n",
      "Name: count, dtype: int64\n",
      "2471\n",
      "0       498\n",
      "2         1\n",
      "Name: count, dtype: int64\n",
      "2515\n",
      "0       498\n",
      "1         1\n",
      "Name: count, dtype: int64\n",
      "2544\n",
      "0       498\n",
      "1         1\n",
      "Name: count, dtype: int64\n"
     ]
    },
    {
     "name": "stderr",
     "output_type": "stream",
     "text": [
      " 55%|█████▍    | 2834/5189 [00:00<00:00, 3201.23it/s]"
     ]
    },
    {
     "name": "stdout",
     "output_type": "stream",
     "text": [
      "2848\n",
      "0       498\n",
      "1         1\n",
      "Name: count, dtype: int64\n",
      "2975\n",
      "0       498\n",
      "4         1\n",
      "Name: count, dtype: int64\n"
     ]
    },
    {
     "name": "stderr",
     "output_type": "stream",
     "text": [
      " 67%|██████▋   | 3495/5189 [00:01<00:00, 3179.54it/s]"
     ]
    },
    {
     "name": "stdout",
     "output_type": "stream",
     "text": [
      "3216\n",
      "0       498\n",
      "1         1\n",
      "Name: count, dtype: int64\n",
      "3400\n",
      "0       498\n",
      "1         1\n",
      "Name: count, dtype: int64\n"
     ]
    },
    {
     "name": "stderr",
     "output_type": "stream",
     "text": [
      " 74%|███████▎  | 3815/5189 [00:01<00:00, 2977.81it/s]"
     ]
    },
    {
     "name": "stdout",
     "output_type": "stream",
     "text": [
      "3843\n",
      "0       498\n",
      "4         1\n",
      "Name: count, dtype: int64"
     ]
    },
    {
     "name": "stderr",
     "output_type": "stream",
     "text": [
      " 86%|████████▋ | 4482/5189 [00:01<00:00, 3155.47it/s]"
     ]
    },
    {
     "name": "stdout",
     "output_type": "stream",
     "text": [
      "\n",
      "4175\n",
      "0       498\n",
      "1         1\n",
      "Name: count, dtype: int64\n",
      "4261\n",
      "0       498\n",
      "1         1\n",
      "Name: count, dtype: int64\n",
      "4434\n",
      "0       498\n",
      "2         1\n",
      "Name: count, dtype: int64\n",
      "4647\n",
      "0       498\n",
      "1         1\n",
      "Name: count, dtype: int64\n"
     ]
    },
    {
     "name": "stderr",
     "output_type": "stream",
     "text": [
      "100%|██████████| 5189/5189 [00:01<00:00, 3122.29it/s]\n"
     ]
    },
    {
     "name": "stdout",
     "output_type": "stream",
     "text": [
      "4924\n",
      "0       498\n",
      "1         1\n",
      "Name: count, dtype: int64\n",
      "5061\n",
      "0       498\n",
      "1         1\n",
      "Name: count, dtype: int64\n",
      "5108\n",
      "0       498\n",
      "1         1\n",
      "Name: count, dtype: int64\n",
      "Year 2017 score: 5.9494373539775465\n",
      "Last valid column:  2018-12\n",
      "Unavailable numerator / denominator:  0.4871096375020792\n"
     ]
    },
    {
     "name": "stderr",
     "output_type": "stream",
     "text": [
      "  4%|▍         | 223/5189 [00:00<00:02, 2225.97it/s]"
     ]
    },
    {
     "name": "stdout",
     "output_type": "stream",
     "text": [
      "5\n",
      "0    498\n",
      "1      1\n",
      "Name: count, dtype: int64\n",
      "132\n",
      "0      497\n",
      "1        1\n",
      "17       1\n",
      "Name: count, dtype: int64\n",
      "213\n",
      "0      498\n",
      "1        1\n",
      "Name: count, dtype: int64\n",
      "220\n",
      "0      498\n",
      "1        1\n",
      "Name: count, dtype: int64\n",
      "221\n",
      "0      498\n",
      "1        1\n",
      "Name: count, dtype: int64\n",
      "268\n",
      "0      498\n",
      "1        1\n",
      "Name: count, dtype: int64\n",
      "526\n",
      "0      498\n",
      "1        1\n",
      "Name: count, dtype: int64\n"
     ]
    },
    {
     "name": "stderr",
     "output_type": "stream",
     "text": [
      " 11%|█         | 552/5189 [00:00<00:01, 2850.35it/s]"
     ]
    },
    {
     "name": "stdout",
     "output_type": "stream",
     "text": [
      "578\n",
      "0      498\n",
      "1        1\n",
      "Name: count, dtype: int64\n"
     ]
    },
    {
     "name": "stderr",
     "output_type": "stream",
     "text": [
      " 16%|█▌        | 838/5189 [00:00<00:01, 2854.10it/s]"
     ]
    },
    {
     "name": "stdout",
     "output_type": "stream",
     "text": [
      "663\n",
      "0      498\n",
      "1        1\n",
      "Name: count, dtype: int64\n",
      "933\n",
      "0      498\n",
      "1        1\n",
      "Name: count, dtype: int64\n",
      "934\n",
      "0      498\n",
      "1        1\n",
      "Name: count, dtype: int64\n",
      "999\n",
      "0      498\n",
      "1        1\n",
      "Name: count, dtype: int64\n"
     ]
    },
    {
     "name": "stderr",
     "output_type": "stream",
     "text": [
      " 22%|██▏       | 1124/5189 [00:00<00:01, 2512.00it/s]"
     ]
    },
    {
     "name": "stdout",
     "output_type": "stream",
     "text": [
      "1084\n",
      "0       497\n",
      "4         1\n",
      "9         1\n",
      "Name: count, dtype: int64\n",
      "1158\n",
      "0       498\n",
      "2         1\n",
      "Name: count, dtype: int64\n"
     ]
    },
    {
     "name": "stderr",
     "output_type": "stream",
     "text": [
      " 27%|██▋       | 1424/5189 [00:00<00:01, 2672.78it/s]"
     ]
    },
    {
     "name": "stdout",
     "output_type": "stream",
     "text": [
      "1497\n",
      "0       498\n",
      "1         1\n",
      "Name: count, dtype: int64\n",
      "1598\n",
      "0       498\n",
      "1         1\n",
      "Name: count, dtype: int64\n"
     ]
    },
    {
     "name": "stderr",
     "output_type": "stream",
     "text": [
      " 40%|████      | 2098/5189 [00:00<00:01, 3036.69it/s]"
     ]
    },
    {
     "name": "stdout",
     "output_type": "stream",
     "text": [
      "1877\n",
      "0       498\n",
      "1         1\n",
      "Name: count, dtype: int64\n",
      "2158\n",
      "0       498\n",
      "2         1\n",
      "Name: count, dtype: int64\n"
     ]
    },
    {
     "name": "stderr",
     "output_type": "stream",
     "text": [
      " 46%|████▋     | 2411/5189 [00:00<00:00, 3058.74it/s]"
     ]
    },
    {
     "name": "stdout",
     "output_type": "stream",
     "text": [
      "2313\n",
      "0       498\n",
      "1         1\n",
      "Name: count, dtype: int64\n",
      "2471\n",
      "0       498\n",
      "2         1\n",
      "Name: count, dtype: int64\n",
      "2544\n",
      "0       498\n",
      "1         1\n",
      "Name: count, dtype: int64\n"
     ]
    },
    {
     "name": "stderr",
     "output_type": "stream",
     "text": [
      " 52%|█████▏    | 2720/5189 [00:00<00:00, 2623.07it/s]"
     ]
    },
    {
     "name": "stdout",
     "output_type": "stream",
     "text": [
      "2626\n",
      "0       498\n",
      "1         1\n",
      "Name: count, dtype: int64\n",
      "2784\n",
      "0       498\n",
      "1         1\n",
      "Name: count, dtype: int64\n",
      "2848\n",
      "0       498\n",
      "1         1\n",
      "Name: count, dtype: int64\n"
     ]
    },
    {
     "name": "stderr",
     "output_type": "stream",
     "text": [
      " 58%|█████▊    | 3018/5189 [00:01<00:00, 2718.13it/s]"
     ]
    },
    {
     "name": "stdout",
     "output_type": "stream",
     "text": [
      "2975\n",
      "0       498\n",
      "5         1\n",
      "Name: count, dtype: int64\n"
     ]
    },
    {
     "name": "stderr",
     "output_type": "stream",
     "text": [
      " 70%|██████▉   | 3612/5189 [00:01<00:00, 2849.59it/s]"
     ]
    },
    {
     "name": "stdout",
     "output_type": "stream",
     "text": [
      "3400\n",
      "0       498\n",
      "1         1\n",
      "Name: count, dtype: int64\n"
     ]
    },
    {
     "name": "stderr",
     "output_type": "stream",
     "text": [
      " 76%|███████▌  | 3955/5189 [00:01<00:00, 3016.88it/s]"
     ]
    },
    {
     "name": "stdout",
     "output_type": "stream",
     "text": [
      "3615\n",
      "0       498\n",
      "1         1\n",
      "Name: count, dtype: int64\n",
      "3687\n",
      "0       498\n",
      "1         1\n",
      "Name: count, dtype: int64\n",
      "3745\n",
      "0       498\n",
      "1         1\n",
      "Name: count, dtype: int64\n",
      "3843\n",
      "0       498\n",
      "4         1\n",
      "Name: count, dtype: int64\n"
     ]
    },
    {
     "name": "stderr",
     "output_type": "stream",
     "text": [
      " 83%|████████▎ | 4297/5189 [00:01<00:00, 3129.11it/s]"
     ]
    },
    {
     "name": "stdout",
     "output_type": "stream",
     "text": [
      "4175\n",
      "0       498\n",
      "1         1\n",
      "Name: count, dtype: int64\n",
      "4261\n",
      "0       498\n",
      "1         1\n",
      "Name: count, dtype: int64\n",
      "4286\n",
      "0       498\n",
      "2         1\n",
      "Name: count, dtype: int64\n",
      "4296\n",
      "0       498\n",
      "1         1\n",
      "Name: count, dtype: int64\n"
     ]
    },
    {
     "name": "stderr",
     "output_type": "stream",
     "text": [
      "100%|██████████| 5189/5189 [00:01<00:00, 2918.68it/s]\n"
     ]
    },
    {
     "name": "stdout",
     "output_type": "stream",
     "text": [
      "5061\n",
      "0       498\n",
      "1         1\n",
      "Name: count, dtype: int64\n",
      "5108\n",
      "0       498\n",
      "1         1\n",
      "Name: count, dtype: int64\n",
      "5178\n",
      "0       498\n",
      "2         1\n",
      "Name: count, dtype: int64\n",
      "Year 2018 score: 5.999542064563428\n",
      "Last valid column:  2019-12\n",
      "Unavailable numerator / denominator:  0.4322675988295009\n"
     ]
    },
    {
     "name": "stderr",
     "output_type": "stream",
     "text": [
      "100%|██████████| 5189/5189 [00:01<00:00, 2987.17it/s]\n"
     ]
    },
    {
     "name": "stdout",
     "output_type": "stream",
     "text": [
      "Year 2019 score: 4.495521029561298\n",
      "Last valid column:  2020-12\n",
      "Unavailable numerator / denominator:  0.4322675988295009\n"
     ]
    },
    {
     "name": "stderr",
     "output_type": "stream",
     "text": [
      "100%|██████████| 5189/5189 [00:01<00:00, 3165.42it/s]"
     ]
    },
    {
     "name": "stdout",
     "output_type": "stream",
     "text": [
      "Year 2020 score: 3.933194787185579\n"
     ]
    },
    {
     "name": "stderr",
     "output_type": "stream",
     "text": [
      "\n"
     ]
    }
   ],
   "source": [
    "import re\n",
    "import pandas as pd\n",
    "import matplotlib.pyplot as plt\n",
    "from tqdm import tqdm\n",
    "import numpy as np\n",
    "from rapidfuzz import fuzz, process\n",
    "from functools import lru_cache\n",
    "\n",
    "# session_year_map = {\n",
    "#     2008: 110,\n",
    "#     2012: 112,\n",
    "#     2016: 114,\n",
    "#     2020: 116\n",
    "# }\n",
    "session_year_map = {2007: 110, 2008: 110, 2009: 111, 2010: 111, 2011: 112, 2012: 112, 2013: 113, 2014: 113, 2015: 114, 2016: 114, 2017: 115, 2018: 115, 2019: 116, 2020: 116}\n",
    "all_website_scores = []\n",
    "all_website_scores_by_category = {category: [] for category in classification_col.unique()}\n",
    "\n",
    "sum_year_scores = []\n",
    "num_websites = []\n",
    "year_std_devs = []\n",
    "\n",
    "categorized_normalized_year_scores = {category: [] for category in classification_col.unique()}\n",
    "categorized_year_std_devs = {category: [] for category in classification_col.unique()}\n",
    "\n",
    "SIMILARITY_THRESHOLD = 90\n",
    "\n",
    "@lru_cache(maxsize=100000)\n",
    "def cached_partial_ratio(phrase, token):\n",
    "    return fuzz.partial_ratio(phrase, token)\n",
    "\n",
    "def count_matches(ngrams, phrase):\n",
    "    curr_index = 0\n",
    "    count = 0\n",
    "    while curr_index < len(ngrams):\n",
    "        if cached_partial_ratio(phrase, ngrams[curr_index]) >= SIMILARITY_THRESHOLD:\n",
    "            count += 1\n",
    "            curr_index += 3\n",
    "        curr_index += 1\n",
    "    return count\n",
    "\n",
    "phrase_count_by_year = {}\n",
    "\n",
    "USE_FILE = True\n",
    "REMOVE_KEYWORDS = True\n",
    "\n",
    "removal_keywords = [\"credit card\", \"air force\"]\n",
    "\n",
    "if USE_FILE:\n",
    "    import pickle\n",
    "    if FUZZY_MODE:\n",
    "        phrase_count_by_year = pickle.load(open(\"phrase_count_by_year_fuzzy.pkl\", \"rb\"))\n",
    "    else:\n",
    "        phrase_count_by_year = pickle.load(open(\"phrase_count_by_year.pkl\", \"rb\"))\n",
    "    if REMOVE_KEYWORDS:\n",
    "        for year in phrase_count_by_year:\n",
    "            for keyword in removal_keywords:\n",
    "                if keyword in phrase_count_by_year[year].columns:\n",
    "                    phrase_count_by_year[year].drop(keyword, axis=1, inplace=True)\n",
    "                else:\n",
    "                    print(\"Keyword not found in DataFrame: \", year, keyword)\n",
    "\n",
    "for year in session_year_map:\n",
    "    session = session_year_map[year]\n",
    "    keywords_df = pd.read_csv(f\"Partisan Index/{session}_congress_alpha_beta.csv\")\n",
    "    clean_phrases = keywords_df[\"phrase_clean\"]\n",
    "    clean_phrases = clean_phrases.dropna()\n",
    "    \n",
    "\n",
    "    valid_columns = [col for col in website_df.columns if str(year) in col]\n",
    "    subset = website_df[valid_columns[-1]] # select the last value within a given year\n",
    "    print(\"Last valid column: \", valid_columns[-1])\n",
    "\n",
    "    subset = subset.fillna(\"\")\n",
    "    subset = subset.astype(str)\n",
    "    \n",
    "    subset_split = subset.apply(ngram_text)\n",
    "\n",
    "    if phrase_count_by_year.get(year) is not None:\n",
    "        phrase_count = phrase_count_by_year[year]\n",
    "    else:\n",
    "        phrase_count = pd.DataFrame(0, index=website_df.index, columns=keywords_df[\"phrase_clean\"])\n",
    "        for phrase in tqdm(clean_phrases, total=len(clean_phrases)):\n",
    "            if FUZZY_MODE:\n",
    "                phrase_count[phrase] = subset_split.apply(lambda x: count_matches(x, phrase))\n",
    "            else:\n",
    "                pattern = re.escape(phrase)\n",
    "                phrase_count[phrase] = subset.apply(lambda x: len(re.findall(pattern, x, re.IGNORECASE)))\n",
    "        phrase_count_by_year[year] = phrase_count\n",
    "\n",
    "    y_n_denominator = sum((beta * beta) for beta in keywords_df[\"beta\"])\n",
    "    unavailable_numerator = sum((beta * -alpha) for (beta, alpha) in zip(keywords_df[\"beta\"], keywords_df[\"alpha\"]))\n",
    "\n",
    "    print(\"Unavailable numerator / denominator: \", unavailable_numerator / y_n_denominator)\n",
    "\n",
    "    website_scores = []\n",
    "    website_scores_by_category = {category: [] for category in classification_col.unique()}\n",
    "\n",
    "    websites_count = 0\n",
    "    neutral_website = 0\n",
    "\n",
    "    for website in tqdm(phrase_count.index):\n",
    "        website_stats = phrase_count.loc[website]\n",
    "        valid_phrases = website_stats.index\n",
    "        website_category = classification_col[website]\n",
    "\n",
    "        if not subset.loc[website]:\n",
    "            continue\n",
    "\n",
    "        phrase_count_sum = website_stats.sum()\n",
    "        \n",
    "        if phrase_count_sum == 0:\n",
    "            website_scores.append(neutral)\n",
    "            website_scores_by_category[website_category].append(neutral)\n",
    "            continue\n",
    "        else:\n",
    "            y_n_numerator = 0\n",
    "            for phrase, beta, alpha in zip(keywords_df[\"phrase_clean\"], keywords_df[\"beta\"], keywords_df[\"alpha\"]):\n",
    "                if phrase in valid_phrases:\n",
    "                    if phrase_count_sum == 0: # NOTE: this is inactive\n",
    "                        print(\"error - this if statement should not be seen\")\n",
    "                        y_n_numerator += beta * (0 - alpha)\n",
    "                    else:\n",
    "                        y_n_numerator += beta * ((website_stats[phrase] / phrase_count_sum) - alpha)\n",
    "            score = (y_n_numerator / y_n_denominator)\n",
    "\n",
    "            if score > 1.5:\n",
    "                modified_website_stats = website_stats.to_frame()\n",
    "                print(modified_website_stats.value_counts())\n",
    "\n",
    "            website_scores.append(score)\n",
    "            website_scores_by_category[website_category].append(score)\n",
    "            websites_count += 1\n",
    "    all_website_scores.append(website_scores)\n",
    "    # print(\"Websites count: \", websites_count, \" Number of elements in website_scores: \", len(website_scores))\n",
    "\n",
    "    sum_year_scores.append(np.sum(website_scores))\n",
    "    num_websites.append(websites_count)\n",
    "    year_std_devs.append(np.std(website_scores))\n",
    "\n",
    "    for category in classification_col.unique():\n",
    "        if len(website_scores_by_category[category]) == 0:\n",
    "            # print(f\"Category {category} had no websites in year {year}\")\n",
    "            continue\n",
    "        all_website_scores_by_category[category].append(website_scores_by_category[category])\n",
    "        categorized_normalized_year_scores[category].append(np.mean(website_scores_by_category[category]))\n",
    "        categorized_year_std_devs[category].append(np.std(website_scores_by_category[category]))\n",
    "\n",
    "    print(f\"Year {year} score: {np.sum(website_scores) / websites_count}\")"
   ]
  },
  {
   "cell_type": "code",
   "execution_count": null,
   "metadata": {},
   "outputs": [
    {
     "name": "stdout",
     "output_type": "stream",
     "text": [
      "Website:  270 SMOKERS Skip content Submit Close search Home SMOKERS Accessories Replacement Parts 270 Apparel Cooks Tools & Seasonings Dealer Network Upcoming Events Classes Contact Us Home SMOKERS Accessories   -  1.2522402922601188\n",
      "Website:  9B Apparel 9B Apparel Us Development/Production Factories Policies policies Downloadable documents Us/ Development/Production/ Factories/ Policies/Our policiesDownloadable documents Trusted Domestic A  -  1.2440398446662289\n",
      "Website:  Home - AccuStrike Welding Helmet Home Products Testimonials Great Deals Shop Now! Learn Works VIDEOS & PHOTOS Click Products Shop FAQ Frequently Asked Questions Distributors Distributor List. get touc  -  1.2440398446662289\n",
      "Website:  Alfa Romeo: passion driving technology top Models Brand Racing Store Area Select Country Dealers New Giulia GTA Discover Quadrifoglio Discover STELVIO Car Configurator Discover GIULIA Car Configurator  -  1.1217729774459073\n",
      "Website:  Dan Gurney's American Racers Home Dan Gurney Bio Career Statistics Formula One Sports Car & IndyCar Nascar AAR AAR History AAR Statistics Galleries Formula One Sports Car IndyCar Alligator Riders Gato  -  1.2522402922601188\n",
      "Website:  American Whistle Corporation | Home | Columbus, Ohio 0HOMEABOUT USSHOPTOURSSAFETY PROGRAMSRESOURCESCONTACTMore American Whistle Corporation's response COVID-19View FINEST HANDCRAFTED BRASS WHISTLES ​   -  1.2522402922601188\n",
      "Website:  Home - Anderson Dairy Sign Sign close Sign Dont account? Sign Username Password Remember ? Forgot password Sign Sign Sign latest news, offers check-out even faster. close Sign account? Sign Sign using  -  1.2440398446662289\n",
      "Website:  Appalachian Gap Distillery | Home | Craft Distillery - Made Right Skip content FacebookInstagramTwitter (802) 989-7362|info@appgap.com Search for: HomeOur SpiritsBuy Spirits OnlineCocktailsCocktail Vi  -  1.2522402922601188\n",
      "Website:  Araks - Araks | Lingerie, Swimwear & Sleepwear Enjoy complimentary shipping domestic orders $150 & international orders $500 (0) Item added. View Cart >> Toggle navigation Login Register (0) Search Te  -  1.2440398446662289\n",
      "Website:  Organic Loose Tea | Buy Organic Teas $4.95 Shipping + Free Shipping $60 USA Organic Tea Black Fair Trade Unflavored Flavored Decaf Samplers Black Tea Popular Selections: Assam English Breakfast Earl G  -  1.2440398446662289\n",
      "Website:  Official Clothing Accessories - Ayla Clothing Collections Ready Wear Spring Summer 19 Spring Summer 18 Fall Winter 17 Spring Summer 17 Categories Dresses Tops Bottoms Playsuits Masks Ayla Life Contact  -  1.2440398446662289\n",
      "Website:  Home - Caledonia Spirits Skip content StorySpiritsBarr Hill GinTom Cat GinBarr Hill VodkaCocktailsBee’s Knees WeekVenue Sign UpLearn MoreParticipating VenuesSave BeesMake Bee’s KneesFind UsShopRaw Hon  -  1.2440398446662289\n",
      "Website:  Bear Creek Arsenal: AR-15, AR-10, AR-9 Rifles Parts JavaScript seems disabled browser. best experience site, sure turn Javascript browser. Skip Content Blog Sign Create AccountToggle Nav Cart Search S  -  1.2440398446662289\n",
      "Website:  Home | Skip content Menu Home SHOP California Custom Knives Chef Knives Steelcraft Series 1911 Grips Collection Photo Gallery 2019 Gun Grip Catalog Info Knife Care Maintenance Register STEELCRAFT Knif  -  1.2522402922601188\n",
      "Website:  Belleville Boot Account Account View Cart Login / Create Account FREE STANDARD SHIPPING Continental US orders 0 item(s) - $0.00 cart currently empty Subtotal: $0.00 View Cart < Checkout Shop Military   -  1.2522402922601188\n",
      "Website:  Beretta - Firearms, Guns, Pistols, Rifles, Clothing, Accessories Jump Content Would like log Beretta using logged facebook information? LOGIN FACEBOOK Country: Corporate International español français  -  1.2440398446662289\n",
      "Website:  Sustainable Hand-Blown Glass Light Fixtures | Bicycle Glass Co. Menu 0 Home Shop Shop Hardware Style Pendant Lighting Chandeliers Bathroom Vanity Lighting Wall-Mount Lights Semi-Flush Mount Bulbs & Ha  -  1.2440398446662289\n",
      "Website:  Blockbuster Inc Automatic Firewood Processor Call us now! 888.775.4883 (SPLITTER) kerry@blockbuster-inc.com Toggle menu Home Products Model 22-22 Model 22-20 Model 18-20 Model 15-20 Model 14-12 Model   -  1.2440398446662289\n",
      "Website:  Blodgett Financing Resources Videos Brochures Events Company Blodgett Blodgett Contact Us Products Ventless Convection Ovens Hydrovection Ovens Helix Series Standard Series Accessories Convection Oven  -  1.2440398446662289\n",
      "Website:  nan  -  1.2522402922601188\n",
      "Website:  BonnBonn Baby Antimicrobial Wicking Performance Baby Wear Essentials – BonnBonn Baby Antimicrobial Wicking Performance Baby Wear Essentials ANTIMICROBIAL MOISTURE WICKING FACE MASKS HERE! Adult Child.  -  1.2440398446662289\n",
      "Website:  Web Server's Default Page see page site address yet. Server powered TinyCP, lightweight Linux Admin Panel. Homepage Community Discord  -  1.2440398446662289\n",
      "Website:  nan  -  1.2440398446662289\n",
      "Website:  CEGO Shirtmaker: New York's Best Custom Shirt Value Skip content Get custom shirt | Contact us close Instagram Facebook Search Cart 0 Menu Shop + Shirts Knits Pocket Squares Jackets Workshop Process S  -  1.2522402922601188\n",
      "Website:  Side x Sides ATV Manufacturer | CFMOTO USA Login Register Site Web Search Toggle navigation CFMOTO ONLINE STORE Consumer Financing PartnersFinancing CalculatorBecome Dealer Dealer Login atvs cforce se  -  1.2440398446662289\n",
      "Website:  nan  -  1.2522402922601188\n",
      "Website:  Chicago Hardware Fixture Company Chicago Hardware & Fixture Company Source USA Manufactured Industrial Marine Hardware Us Forged Turnbuckles Midget Turnbuckles Shackles Malleable Wire Rope Clips Drop   -  1.2440398446662289\n",
      "Website:  Channellock health safety everyone Channellock extremely important us. Read COVID-19 response here. Product Catalog Pliers Tongue & Groove Linemen's Cutting Long Nose Long Reach Slip Joint Screwdriver  -  1.2522402922601188\n",
      "Website:  City Boxers--Finest Quality Boxer Shorts Privacy Statement Return Policy Best Sellers Measurement Charts Wanna Help? Downtime taking orders site short period time hopes might able get caught ;') close  -  1.2440398446662289\n",
      "Website:  Clear Conscience Pet | SuperGravy Dog Gravy Toppers, Dog Treats, Chews Skip content Close menu Shop SuperGravy Arfredo Barkinara PAW JUS Bon La Goat Trial Packs 21-Day Challenge Bon Goat 7-Day Arfredo  -  1.2440398446662289\n",
      "Website:  Cobalt Creek Rugs Us Core Collection Robert Caine Collection Sacha Knight Collection Rande Cook Gallery Rugs Coastal Novelty Return Policy Contact Special Projects Cobalt Creek RugsAmerican Crafted de  -  1.2440398446662289\n",
      "Website:  Cole Motor Car Registry - Cole Motor Car Registry Skip content Cole Motor Car Registry Cole auto owners, enthusiests, interested fascinating story Cole Motor Car Company Menu widgets Home Cole Motor C  -  1.0873003146567037\n",
      "Website:  Community Playthings | Montessori, Daycare, & Preschool Furniture Login Customer Service Us Classroom Tables & Desks Classroom Tables MultiTables Desks Teacher Workstation Chairs & Seating Classroom C  -  1.2522402922601188\n",
      "Website:  Metal Band St. Louis | Conquest Metal Band St. Louis Facebook Twitter YouTube Instagram Pinterest CONQUEST METAL Conquest Metal DISCOGRAPHY Band Bio & History Conquest Store Galleries Videos CONQUEST   -  1.2522402922601188\n",
      "Website:  nan  -  1.2522402922601188\n",
      "Website:  CWI Gifts Basket (0) | Account toggle menu Shop Today's Daily Deal! Home Quick Order Need List Hello. (Login) Hello. (Login) Account 0 Customer Info Address Book Order Status Order History Back Orders  -  1.2522402922601188\n",
      "Website:  Innovative American Timepieces | Devon Works HOMETREAD 1TREAD 2ACCESSORIESRETAILERSABOUTNEWSMoreAMERICAN MADE TIMEPIECES0The Limited Edition Devon Group 63 ​DISCOVER MORETIME BELTSDEVON'S movement mes  -  1.2440398446662289\n",
      "Website:  DoubleStarUSA Thank DoubleStar Nation! Due relentless support Second Amendment, absolutely covered orders! caused bit delay order processing fear not! continue work butts make sure get high-quality pr  -  1.2440398446662289\n",
      "Website:  Global Petcare, Food, Mars Wrigley Edge Brands | Mars, Incorporated Skip main content remain committed Associates, partners communities. Stay informed response COVID-19. Main navigation Mars Back Mars  -  1.2440398446662289\n",
      "Website:  Drako Motors | Electric Luxury Supercar | 1200 HP Quad Motor | 206 MPH CONTACTDrako GTEPERFORMANCETECHNOLOGYTORQUE VECTORINGDESIGNLUXURYSPECIFICATIONSVIDEOSCOMPANYNEWSLEADERSHIPCONTACT Powerful GT Car  -  1.2440398446662289\n",
      "Website:  Cleaning Essentials | FREE Shipping Orders $75+ | Hand Sanitizer – Dr. Brite USD USD CAD GBP AUD EUR JPY HOME SHOP CLEANING ESSENTIALS Hand Sanitizer Alcohol Wipes 👋🏻 Multi-Purpose Cleaner Castile Soa  -  1.2440398446662289\n",
      "Website:  Easy Rest | Adjustable Beds Mattresses Call toll free 800.217.5206 Therapeutic Beds Platinum Model Adjustable Bed learn model Premier Model Adjustable Bed learn model Great Night Sleep Makes Huge Diff  -  1.2440398446662289\n",
      "Website:  Eliza B & Leather Man Ltd ACCOUNT CONTACT CART Free Shipping Orders $100 0 1 (800) 243-6681| Orders| Account 0 Shopping Cart Shopping Cart cart currently empty. Shop ELIZA B. Sandals Staff Favorites D  -  1.2522402922601188\n",
      "Website:  Eslor Natural Products SKIN CARE PRODUCTS Eslor Collections Healthy Collection Sensitive Collection Targeted Collection Cleanser Soothing Refiner & Cleanser Exfoliants Botanical Peeling Gel Replenishi  -  1.2440398446662289\n",
      "Website:  Fairway Alloys Custom Golf Cart Wheels & Tires - Manufacturer Direct Wooo Whoooo! - Free shipping orders $100 USD 0 Menu Account Cart: (0) Us Golf Cart Wheels Golf Cart Tires Wheel & Tire Kit Builder   -  1.2440398446662289\n",
      "Website:  DLT Trading: Engraved Knives, Bark River, Spyderco, Microtech & more! FREE SHIPPING Orders $99 (877) 622-2397 Mon-Fri, 8-5 CT Contact | Customer Service | DLT Difference | SIGN Toggle menu (0) Search   -  1.2440398446662289\n",
      "Website:  Online Custom Picture Frames & Art Framing | Framebridge Skip contentFramebridgeShop AllDesign ServiceshomepageNavigationStoresSupportSign Cart FramebridgeNavigationShow Menu Menu Close homepage Cart   -  1.2522402922601188\n",
      "Website:  High quality leather goods made America | Frank Clegg Leatherworks Contact Supporthttps://frankcleggleatherworks.com/ Subscribe Wina $500 Gift CardEvery month choose one lucky winner subscription list  -  1.2522402922601188\n",
      "Website:  Vero Frescobol Wood Fiberglass Carbon Fiber Paddles Ball Made USA open & shipping daily. Florida small business manufacture = supply chain issues. Menu 0 Paddles Wood Fiberglass Carbon Fiber Scratch n  -  1.2522402922601188\n",
      "Website:  nan  -  1.2440398446662289\n",
      "Website:  Organic Children's Clothing | Organic Kids Clothing | Kids Cotton Clothing | Organic Baby Clothing Retail sales $75 ship Priority free USA! *Free Shipping applies orders Regularly priced (non-sale) it  -  1.2440398446662289\n",
      "Website:  Goodyear Corporate | Home Goodyear Sites COMPANY CORPORATE RESPONSIBILITY CAREERS INVESTORS MEDIA COMPANY Goodyear, innovation do-it's are. Learn drives us headed next. Strategy Roadmap purpose goals   -  1.2440398446662289\n",
      "Website:  Grain Surfboards - Home Boards In-Stock Boards GreenRail Construction Original Construction Fish Mid Length Long Boards Collaborations Big Wave Body Surf Workshops General Info York Maine Workshops Am  -  1.2522402922601188\n",
      "Website:  GrandTen Distilling Online OrderingHomeSpiritsOur ProductsCocktail SuggestionsThe BarAboutNews & UpdatesThe CraftThe FoundryThe BarLocateDirections & MapsFind BottleEventsTours & TastingsFriday Night   -  1.2522402922601188\n",
      "Website:  Home | Grand Traverse Distillery Log InWhere BuyNorthern Michigan's SpiritSanitizer Hand & Surface Click ​Our DistilleryIn Traverse City, stumble upon building outskirts town hosts custom built Arnold  -  1.2522402922601188\n",
      "Website:  GruvyWear 1 (855) go-grUVy (855-464-7889) Account Register Login Wish List (0) Shopping Cart Checkout 0 item(s) - $0.00 shopping cart empty! Categories Babies Baby Girls (13) Baby Boys (9) Show Babies  -  1.2522402922601188\n",
      "Website:  Guardian Angel Window Guards Cart 0 Safety Support News Contact ORDER Cart 0 AboutSafetySupportNewsContact Solution Preventing Tragic Window Falls ORDER Scroll MISSION Child Safety. Childproofing home  -  1.2440398446662289\n",
      "Website:  Haggar Clothing | Men’s Casual Pants & Dress Pants | Haggar skip main content Free Shipping‡ Orders $75 + Free Returns Sign & Save 20% First Purchase Cancel Menu Haggar established 1926 Search Catalog  -  1.2440398446662289\n",
      "Website:  Home Drink Experience Shop Curbside To-Go Drink American Prairie Bourbon Double Rye! Barrel Finished Cocktails Manhattan Barrel Finished Cocktail Old Fashioned Barrel Finished Cocktail Limited Release  -  1.2440398446662289\n",
      "Website:  Holiday Rambler | Built road– far beyond. Motorhomes Shop Owners Locate Dealer Build & Price 2021 2020 Armada 2021 Endeavor 2021 Navigator 2021 Nautica 2021 Diesel Vacationer 2021 Invicta 2021 Admiral  -  1.2522402922601188\n",
      "Website:  Honomu Goat Dairy - Honomu Goat Dairy home page Home Store Contact Goat Yoga Home Store Contact Goat Yoga Honomu​Goat Dairy cleanest air, purest water, freshest cheese. Goat Dairy Updates Book 11/27/2  -  1.2440398446662289\n",
      "Website:  nan  -  1.2440398446662289\n",
      "Website:  Ibanez  -  1.2522402922601188\n",
      "Website:  JACK HENRY Skip content SHOP HAIR CLEANSE + CLAY POMADE HAIR REFRESH OG POMADE FACE CLEANSE + FACE TONER MORNING HYDRATE NIGHTLY DETOX SUPER FACE OIL BEARD OIL BODY CLEANSE + DEODORANT KITS MORNING KI  -  1.2522402922601188\n",
      "Website:  nan  -  1.2440398446662289\n",
      "Website:  Johansen Official Skip content SIGN Join members list receive exclusive access latest collections, events initiatives. Subscribe NEWWAREHOUSE SALESHOP ALLDRESSESTOPSJUMPSUITSWINTERSETSSALECOLLABORATIO  -  1.2522402922601188\n",
      "Website:  Jones Dairy HomeThe FarmThe FamilyToursVirtual TourContactMoreWe family owned operated dairy family five generations. love showing visitors farm sharing dairy farm experience! Check us Facebook update  -  1.2440398446662289\n",
      "Website:  Juiced! Cold pressed juice made 100% fruits & vegetables. ProductsOur JuicesCleansesPower ShotsThe Juiced! WayOur ProcessHealth NutritionLocally SourcedOur StoryThe ArtworkWhy Cold-Pressed?Where Buy S  -  1.2440398446662289\n",
      "Website:  Lance Camper | Truck Campers Travel Trailers Home Request Brochure Build Models Truck Campers 650 Short-Bed Trucks Floor Length: 6'10\" Dry Weight: 1700 Lbs. 825 Short-Bed Trucks Floor Length: 8'6\" Dry  -  1.2522402922601188\n",
      "Website:  Larceny Bourbon | Home BUY bourbons unlock Wheated difference Legacy Distillery cocktails visit Buy contact us privacy policy Menu Welcome. steal taste Larceny, must 21+. Enter date birth. COUNTRY Uni  -  1.2522402922601188\n",
      "Website:  Durable Men's Clothing Raw Denim, Chinos, Tees, USA made– Left Field NYC Durable Men's Clothing Raw Denim, Chinos, Tees, USA made Close menu WELCOME RIDGEWOOD - Stuff visit Left Field Gift Card Post C  -  1.2522402922601188\n",
      "Website:  Leo Nani Farms HomeOur StoryEventsStoreProductsContact leo nani farms HomeOur StoryEventsStoreProductsContact Welcome Leo Nani Farms... Beautiful Singing Farms! organic: white pineapples, duck & chick  -  1.2522402922601188\n",
      "Website:  Scopes, Binoculars, Sport Optics | Leupold Products Scopes Scopes Hunting Scope Finder Tactical Scope Finder Explore Type Rifle Scope Shotgun & Muzzleloader Scope Handgun Scope Long Range Scope Tactic  -  1.2522402922601188\n",
      "Website:  Award Winning Running Outdoor Adventure Sandals 855-586-2726 GIFT CONFIDENCE!WEAR, KEEP RETURN JANUARY 30th. Sandal Picker menu LUNA Sandals Login 0 Cart SHOP NEW LUNA? BESTSELLERS menu SHOP NEW LUNA?  -  1.2522402922601188\n",
      "Website:  Masterclock, Inc. Products Master Clocks NTP Servers Time Code Generators Multi-Color Clocks Time Zone Clocks Digital Clocks Analog Clocks Digital-Analog Clocks Count Controller Dual-Channel Productio  -  1.2440398446662289\n",
      "Website:  nan  -  1.1424211095574552\n",
      "Website:  Mica Lamp Company, Turn century American lighting design craftsmanship Turn-of-the-century American Lighting design craftsmanship available today Mica Lamp Co. follow formula original craftsman. parts  -  1.2440398446662289\n",
      "Website:  nan  -  1.2481400684631736\n",
      "Website:  Minto Island Tea Company Home Store Products Grow Tea Camellia sinensis Visit Tours Events Calendar Home Store Products Grow Tea Camellia sinensis Visit Tours Events Calendar Certified Organic TeaSmal  -  1.2440398446662289\n",
      "Website:  Montrose Trailers - Custom Aluminum Trailers High Performance Custom Built Aluminum Trailers Call Gary at: 810­-639­-7431 contact us using Online Form Home History History Guarantee Recommendations Pr  -  1.2440398446662289\n",
      "Website:  Mrs. Bones Decorative Dog Collars Home Mrs. Bones Gift Registry Account Contact Us Blog FREE SHIPPING Hello Guest Account View Cart 0 Dog Collar Collections Signature Collection Classic Collection Gal  -  1.2440398446662289\n",
      "Website:  Stickers | Mrs. Grossman's Sticker Factory USD CAD INR GBP AUD EUR JPY Log Cart (0) Checkout     USD CAD INR GBP AUD EUR JPY Home New Shop Black Friday - Cyber Monday Deals! Fall Limited Edition S  -  1.2440398446662289\n",
      "Website:  Munro Shoes Skip content Find perfect fit Search Current Styles Back Main Navigation New Arrivals Back Main Navigation Shoes Back Main Navigation Athleisure Flats / Skimmers Heels / Pumps Loafers Mule  -  1.143623897972095\n",
      "Website:  Smoked Sausage, Bacon & Ham | Since 1933 | Nueske's Skip main content Jump main navigation play3 pause2 Site Search ~ 3rd Generation Family Company ~ Gift List Sign Gift List Account Logout 1.800.392.  -  1.2440398446662289\n",
      "Website:  Leather Women's Wallets | Oberon Design Menu Cart Phones iPhone Cases iPhone Wallet Cases Smartphone Wallets Match Phones Cases Tablets iPad Covers iPad Pro 12.9 iPad Mini Covers iPad Bumper Cases Fir  -  1.2440398446662289\n",
      "Website:  nan  -  1.2440398446662289\n",
      "Website:  Omnia Leather Account Us Photo Gallery Video Portfolio Dealer Locator Warranty Wishlist Contact us Login Privacy Policy 0 products cart. 0 products cart. Account Dealer Locator Warranty Us Inspiration  -  1.2440398446662289\n",
      "Website:  Hearts | Lingerie clothing shameless romantic worn anytime, anywhere! JavaScript seems disabled browser. best experience site, sure turn Javascript browser. Toggle Nav Menu Menu NEWCOLLECTIONSDELICIOU  -  1.2522402922601188\n",
      "Website:  nan  -  1.2440398446662289\n",
      "Website:  Oveready Performance Flashlights & Custom Flashlight Upgrades - Menu - OVEREADY AccountMy WIshlistInfoVideosInsidersReviewsResourcesBOSS Support FilesModdoolar Support FilesPEAK Support FilesOR Commun  -  1.2440398446662289\n",
      "Website:  Dog Collar, Dog Leashes, Dog Harness Paw Paws USA Toggle menu 864-605-7297 Compare $0.00 Search Search Collars Leashes Harnesses Paw Paws T-Shirts Football Shop Shop Collection Shop Collection America  -  1.2522402922601188\n",
      "Website:  nan  -  1.2440398446662289\n",
      "Website:  Blueberries - Tea Processor | Mississippi $0.00Welcome Blueberries-our Specialty! Pearl River Tea Gallery Contact Us Store Events Account Welcome Blueberries-our Specialty! Pearl River Tea Gallery Con  -  1.2440398446662289\n",
      "Website:  nan  -  1.2440398446662289\n",
      "Website:  Plochman's Mustard | Home SEARCH SITE STORE LOCATOR Products Recipes Us FOODSERVICE Menu Products Recipes Us FOODSERVICE SEARCH SITE STORE LOCATOR True Original.Made USA. 1883, Moritz Plochman pledged  -  1.2440398446662289\n",
      "Website:  nan  -  1.2522402922601188\n",
      "Website:  nan  -  1.2440398446662289\n",
      "Website:  Work Jeans & Denim Apparel - Men's Clothes Made USA | Prison Blues SEO optimized title Home·Product Search·Site Map·Checkout·Track Order Items Product Information SALE items Work Jeans ( 7 Pocket ) Ri  -  1.2440398446662289\n",
      "Website:  Project Hive Pet Company Search close (esc) Close menu Search Facebook Instagram Close cart COMING SPRING 2021 Menu Search Cart Use left/right arrows navigate slideshow swipe left/right using mobile d  -  1.2440398446662289\n",
      "Website:  Wall Art tapestries, Woven Blankets, Wall Tapestries, Wall Art Loading... Please wait... Sign Create account Guest Facebook | Featured New Items | Fine Art Tapestries | PhotoWeavers | FiberArt Cart ca  -  1.2522402922601188\n",
      "Website:  Award winning STEM Construction Toy Classrooms Instructions Awards BLOG Contact USA Terms Service Log Create account Menu Cart Cart (0) Log Create account Instructions Awards BLOG Contact USA Terms Se  -  1.2440398446662289\n",
      "Website:  Raymour & Flanigan - Home Furniture, Mattresses & Decor | Raymour & Flanigan  -  1.2522402922601188\n",
      "Website:  Wholesale Accounts Loading... Please wait... Gift Certificates Account Sign Create account Currency Displayed Wish Lists View Cart (0) 0.00 Checkout Search Search Home Categories Products 36 INCH SIGN  -  1.2440398446662289\n",
      "Website:  Redline | Redline JavaScript seems disabled browser. best experience site, sure turn Javascript browser. Support Sign Cart Skip Content Toggle Nav Menu Shop BikesBig BikesBlockFramesFreestyleRaceSaleG  -  1.2522402922601188\n",
      "Website:  CNC Machine Cutting Tools | Redline Tools Shopping Cart Welcome back! Toll Free (800) 791-7542 Home Products Burs Carbide Bars Chamfers & Countersinks Chip Fans Collets & Seals Corner Rounding Tools C  -  1.2522402922601188\n",
      "Website:  Rejuva Minerals | Rejuva Minerals, Inc. Mica Free, Titanium Dioxide Free Makeup Toggle navigation Rejuva Minerals Login / Register Home Shop Skincare Moisturizer/Multi Purpose Oil Soap/Makeup Remover   -  1.2522402922601188\n",
      "Website:  Shop Bedding | Satin Bedding: Sheets, Pillowcases, & Mattress Covers JavaScript seems disabled browser. must JavaScript enabled browser utilize functionality website. Free Shipping Orders $50 Details   -  1.2522402922601188\n",
      "Website:  revoluggage – Revoluggage Skip content HOME SHOP See LUGGAGE See REVO SPEED LIGHT Revo VELOCITY REVO SEVEN REVO LIMITED BACKPACKS DUFFLES ORGANIZERS CONTACT Log Create account Search Shopping Cart Car  -  1.1780831193635968\n",
      "Website:  Rockstarlette Outdoors, Adventure Inspired Sportswear Made USA Search View Cart (0) Rockstarlette Outdoors™ Active Wear Designs Inspired Outdoor Adventure Toggle navigation Home Shop Here: View Hats &  -  1.2440398446662289\n",
      "Website:  Rogue Fitness USA - Strength & Conditioning Equipment SHIPPING DELAY: 5-7 DAYS.Online orders operations active. Retail store closed. | Covid-19 Status JavaScript seems disabled browser. must JavaScrip  -  1.2522402922601188\n",
      "Website:  Front Pocket Wallets - Leather Wallets | Rogue Industries Shop Safely Free Shipping Domestic Orders Menu 0 Mens Favorites Men's Made Maine Collection Front Pocket Wallets Card Cases Traditional Wallet  -  1.2440398446662289\n",
      "Website:  Home - Ross Bikes Skip content FREE SHIPPING BIKES Account Register FREE SHIPPING BIKES Cart 0 products cart. 0 Cart products cart. Home ROSS History Enter Win Old Ross? Contact Us Become Dealer new r  -  1.0449062967689307\n",
      "Website:  Saab | It´s human right feel safe Skip content Go main navigation Go language selector Home Products Newsroom Investors Career Support Markets Search [Missing text '/general/legend' 'English'] Freetex  -  1.2440398446662289\n",
      "Website:  Saatva Mattress, Bedding, Foundations | Saatvasales tagSave Cyber Monday Sale! Enjoy $200 purchase $1,000 midnight tonight! Learn MoreCloseThe hits keep coming…In addition $200 discount, get free whit  -  1.2440398446662289\n",
      "Website:  Samsung US | Mobile | TV | Home Electronics | Home Appliances | Samsung US Skip content Samsung Cookies site uses cookies personalise experience, analyse site traffic keep track items stored shopping   -  1.2522402922601188\n",
      "Website:  Sauce Beauty \"Close Bag\" shopping bag Shop Login Search products site Search See FREE Shipping orders $18! Account Log Create account Shop FAQ Blog Press sauce-logo sauce-logo 0 Menu sauce-logo sauce-  -  1.2522402922601188\n",
      "Website:  Organic Mattresses, Latex Sofas & Natural Bedding | Savvy Rest Skip main content Welcome, Savvy Rest Dealer. Dealer Resources 25760 trees planted 3146 pillows donated Search form Search 866-856-4044 E  -  1.2440398446662289\n",
      "Website:  Saylor-Beall Industrial Air Compressors Nationwide: 800-394-7644 | Local: 989-224-2371 Home Us Air Compressors Pumps Base Mounted Tank Mounted Horizontal Tank Mounted Vertical Duplex Rotary Screw Vide  -  1.2467733271975252\n",
      "Website:  Duration Home® Interior Acrylic Latex Paint - Sherwin-Williams Message Dialog Close Display Update Message session timeout due inactivity. Click OK extend time additional 30 minutes. OK [ { \"catentry_  -  1.2440398446662289\n",
      "Website:  Flooring Carpet Hardwood Floors | Shaw Floors Anderson Tuftex COREtec Floors Floorigami Philadelphia Commercial Shaw Floors Carpet Hardwood Laminate Vinyl Tile & Stone 5th & Main Commercial Flooring T  -  1.2440398446662289\n",
      "Website:  Original Wood Sunglasses | Shwood Eyewear Men's Women's Collections Explore Story Process Journeys Time Well Spent SALE! USD INR GBP CAD AUD EUR JPY Cancel BLACK FRIDAY SALE! Shop Sunglasses Men's Sun  -  1.2440398446662289\n",
      "Website:  Venture Snowboards | Precision Crafted, Mountain Tested. Handcrafted Silverton, Colorado, USA Sign Create Account Cart 0 Search Menu Cart 0 Shop + - Dealers Boards Apparel Etc. Gift Card Face Shields   -  1.2522402922601188\n",
      "Website:  sixthreezero Bike Co. | Premier Beach Bicycle Brand & Online Bike Shop | Beach Bikes Sale Bike Advice Lifestyle Contact Us Login Bikes Electric Bikes Accessories New Products Find Fit View Results bod  -  1.2522402922601188\n",
      "Website:  South Florida Distillers — Coming Soon New WordPress Site Coming Soon! Admin Login Bluehost powered website. website? Log WordPress Bluehost  -  1.2440398446662289\n",
      "Website:  Spirit Texas 21 over? must legal drinking age location enter site.This site uses cookies. Texans, value independence privacy promise respect yours. clicking YES, agree Privacy Policy Terms Use. YESNO  -  1.2522402922601188\n",
      "Website:  Water Filters Water Softener Systems - SpringWell Water Filtration Systems Water systems designed, built, packaged U.S.A. Account products cart. Search for: QUESTION? Please call one friendly team mem  -  1.2440398446662289\n",
      "Website:  Subaru Cars, Sedans, SUVs | Subaru America Menu Retailers Build Close Vehicles Outback Starting $26,795* MPG 33/26** Forester Starting $24,795* MPG 33/26** Impreza Starting $18,795* MPG 36/28** Crosst  -  1.2522402922601188\n",
      "Website:  Shop Insulated Stainless Steel Water Bottles | Takeya USA Limited Time: 40% sale items. Free Shipping Orders! 40% OFF! FREE SHIPPING Details Browse Close menu Search Bottles See \"Close Cart\" Featured   -  1.2440398446662289\n",
      "Website:  Timberwolf Firewood Processing Equipment Us Skip content added cart Qty: View cart () Continue shopping Submit Close search Home Available Equipment Find Dealer Parts Contact Us Search Log Cart 0 item  -  1.2522402922601188\n",
      "Website:  nan  -  1.2440398446662289\n",
      "Website:  nan  -  1.2522402922601188\n",
      "Website:  Trimdin Cart 0 Artisan Jackets Artisan Handbags Jacket Accessories Register Jackets Contact Us Wholesale Cart 0 Artisan JacketsArtisan HandbagsJacket AccessoriesRegister JacketsContact Us Boston, Whol  -  1.2440398446662289\n",
      "Website:  nan  -  1.2522402922601188\n",
      "Website:  nan  -  1.2440398446662289\n",
      "Website:  Uncle Nearest Premium Whiskey - 100 Proof Tennessee Uncle Nearest Premium Whiskey – 100 Proof Tennessee Whiskeys 1820 Single Barrel Edition 1856 Premium Aged Whiskey 1884 Small Batch History Cocktails  -  1.2522402922601188\n",
      "Website:  Ventrac Compact Tractors & Attachments Request Demo Dealer Locator Dealer found away! 1 866 836 8722 Free Catalog Call Dealers Search Menu Solutions Featured Slope Mowing Snow Management Solutions Bru  -  1.2440398446662289\n"
     ]
    }
   ],
   "source": [
    "for i in range(len(all_website_scores[-1])):\n",
    "    if all_website_scores[-1][i] > 1:\n",
    "        print(\"Website: \", str(website_df[\"2020-12\"][i])[:200], \" - \", all_website_scores[-1][i])"
   ]
  },
  {
   "cell_type": "code",
   "execution_count": null,
   "metadata": {},
   "outputs": [],
   "source": []
  },
  {
   "cell_type": "code",
   "execution_count": null,
   "metadata": {},
   "outputs": [
    {
     "name": "stdout",
     "output_type": "stream",
     "text": [
      "Number of scores:  2304\n",
      "Number of scores:  3096\n",
      "Number of scores:  3942\n",
      "Number of scores:  4341\n"
     ]
    },
    {
     "data": {
      "image/png": "[encoded data removed]",
      "text/plain": [
       "<Figure size 1600x1200 with 4 Axes>"
      ]
     },
     "metadata": {},
     "output_type": "display_data"
    }
   ],
   "source": [
    "# claude visualization\n",
    "\n",
    "import numpy as np\n",
    "\n",
    "import matplotlib.pyplot as plt\n",
    "\n",
    "fig, axes = plt.subplots(2, 2, figsize=(16, 12))\n",
    "fig.suptitle('Distribution of Website Scores by Year', fontsize=16)\n",
    "\n",
    "# Flatten the axes for easier iteration\n",
    "axes = axes.flatten()\n",
    "\n",
    "for i, year_idx in enumerate([0, 5, 10, 13]):  # Sample early, middle, and recent years\n",
    "    year = list(session_year_map.keys())[year_idx]\n",
    "    scores = all_website_scores[year_idx]\n",
    "    print(\"Number of scores: \", len(scores))\n",
    "    # scores = scores[:200]\n",
    "    \n",
    "    # Calculate statistics\n",
    "    mean = np.mean(scores)\n",
    "    std = np.std(scores)\n",
    "    \n",
    "    # Plot histogram with density curve\n",
    "    ax = axes[i]\n",
    "    n, bins, patches = ax.hist(scores, bins=50, alpha=0.7, density=True, \n",
    "                               color='skyblue', edgecolor='black', linewidth=0.5)\n",
    "    \n",
    "    # Add normal distribution curve\n",
    "    x = np.linspace(mean - 4*std, mean + 4*std, 100)\n",
    "    y = 1/(std * np.sqrt(2 * np.pi)) * np.exp( - (x - mean)**2 / (2 * std**2))\n",
    "    ax.plot(x, y, 'r-', linewidth=2)\n",
    "    \n",
    "    # Add vertical lines for mean and standard deviations\n",
    "    ax.axvline(mean, color='red', linestyle='dashed', linewidth=2, label=f'Mean: {mean:.3f}')\n",
    "    ax.axvline(mean + std, color='green', linestyle='dashed', linewidth=1.5, label=f'±1σ: {std:.3f}')\n",
    "    ax.axvline(mean - std, color='green', linestyle='dashed', linewidth=1.5)\n",
    "    \n",
    "    # Add title and labels\n",
    "    ax.set_title(f'Year: {year} (Congress: {session_year_map[year]})', fontsize=14)\n",
    "    ax.set_xlabel('Website Score', fontsize=12)\n",
    "    ax.set_ylabel('Density', fontsize=12)\n",
    "    ax.grid(True, alpha=0.3)\n",
    "    ax.legend()\n",
    "    \n",
    "    # Add text with statistics\n",
    "    text = f'n = {len(scores)}\\nMean = {mean:.4f}\\nStd = {std:.4f}\\nMin = {min(scores):.4f}\\nMax = {max(scores):.4f}'\n",
    "    ax.text(0.02, 0.95, text, transform=ax.transAxes, fontsize=10,\n",
    "            verticalalignment='top', bbox=dict(boxstyle='round', facecolor='wheat', alpha=0.5))\n",
    "\n",
    "plt.tight_layout()\n",
    "plt.subplots_adjust(top=0.92)\n",
    "plt.show()"
   ]
  },
  {
   "cell_type": "code",
   "execution_count": null,
   "metadata": {},
   "outputs": [],
   "source": []
  },
  {
   "cell_type": "code",
   "execution_count": null,
   "metadata": {},
   "outputs": [
    {
     "name": "stdout",
     "output_type": "stream",
     "text": [
      "[0.47626096564669773, 0.4724922400648449, 0.43777011211960654, 0.42971634267940756, 0.45238321620025584, 0.43627919005272336, 0.44813673177700125, 0.44960244359839796, 0.4212033482490431, 0.41079231625743556, 0.4629186397131016, 0.4699716441439524, 0.4790295912512242, 0.4723430606115348]\n",
      "[0.17786551429201022, 0.18853856058593932, 0.30121308821476805, 0.31889083744226, 0.2781972792074859, 0.31074836313227105, 0.2961347913985753, 0.2980912805251181, 0.3142904965119643, 0.33062423111955763, 0.3219197031598028, 0.331451916239617, 0.2809672519137723, 0.30343134476700817]\n"
     ]
    }
   ],
   "source": [
    "import numpy as np\n",
    "print([np.mean(scores) for scores in all_website_scores])\n",
    "print([np.std(scores) for scores in all_website_scores])"
   ]
  },
  {
   "cell_type": "code",
   "execution_count": null,
   "metadata": {},
   "outputs": [
    {
     "name": "stdout",
     "output_type": "stream",
     "text": [
      "[1097.3052648499915, 1150.9910967979622, 1122.8803375867908, 1167.5393030599503, 1340.8638528175584, 1350.7203724032315, 1486.9176760360901, 1586.197421015148, 1552.5555416459729, 1569.226648103404, 1824.8252777490466, 1922.1840245487654, 1994.2001883788462, 2050.4412261146726]\n"
     ]
    }
   ],
   "source": [
    "print([np.sum(scores) for scores in all_website_scores])"
   ]
  },
  {
   "cell_type": "code",
   "execution_count": null,
   "metadata": {},
   "outputs": [],
   "source": []
  },
  {
   "cell_type": "code",
   "execution_count": null,
   "metadata": {},
   "outputs": [
    {
     "name": "stdout",
     "output_type": "stream",
     "text": [
      "Minimum:  0.41079231625743556\n",
      "Maximum:  0.4790295912512242\n"
     ]
    },
    {
     "data": {
      "image/png": "[encoded data removed]",
      "text/plain": [
       "<Figure size 1600x600 with 2 Axes>"
      ]
     },
     "metadata": {},
     "output_type": "display_data"
    },
    {
     "name": "stdout",
     "output_type": "stream",
     "text": [
      "Normalized year scores (centered): [0.4763, 0.4725, 0.4378, 0.4297, 0.4524, 0.4363, 0.4481, 0.4496, 0.4212, 0.4108, 0.4629, 0.47, 0.479, 0.4723]\n",
      "Years: [2007, 2008, 2009, 2010, 2011, 2012, 2013, 2014, 2015, 2016, 2017, 2018, 2019, 2020]\n"
     ]
    }
   ],
   "source": [
    "import matplotlib.pyplot as plt\n",
    "\n",
    "years = list(session_year_map.keys())\n",
    "normalized_year_scores = [np.mean(scores) for scores in all_website_scores]\n",
    "# normalized_year_scores = [scores * 2 - 1 for scores in normalized_year_scores]  # Normalize to [0, 1] range\n",
    "# Calculate mean of means to center the plots\n",
    "# mean_of_means = np.mean(normalized_year_scores)\n",
    "mean_of_means = 0\n",
    "\n",
    "print(\"Minimum: \", min(normalized_year_scores))\n",
    "print(\"Maximum: \", max(normalized_year_scores))\n",
    "\n",
    "fig, (ax1, ax2) = plt.subplots(1, 2, figsize=(16, 6))\n",
    "\n",
    "# Plot 1: With confidence intervals\n",
    "ax1.plot(years, [(score - mean_of_means) for score in normalized_year_scores], \n",
    "         marker='o', color='r', linewidth=2, label='Normalized Year Scores')\n",
    "ax1.fill_between(years, \n",
    "                 [score - mean_of_means - 1.96*std for score, std in zip(normalized_year_scores, year_std_devs)], \n",
    "                 [score - mean_of_means + 1.96*std for score, std in zip(normalized_year_scores, year_std_devs)], \n",
    "                 color='gray', alpha=0.5, label='95% Confidence Interval')\n",
    "ax1.set_xlabel('Year')\n",
    "ax1.set_ylabel('Normalized Score')\n",
    "ax1.set_title('Yearly Normalized Scores with Confidence Intervals')\n",
    "ax1.legend()\n",
    "ax1.grid(True, alpha=0.3)\n",
    "\n",
    "# Plot 2: Without confidence intervals\n",
    "ax2.plot(years, [(score - mean_of_means) for score in normalized_year_scores], \n",
    "         marker='o', color='b', linewidth=2, label='Normalized Year Scores')\n",
    "ax2.set_xlabel('Year')\n",
    "ax2.set_ylabel('Normalized Score')\n",
    "ax2.set_title('Yearly Normalized Scores')\n",
    "ax2.legend()\n",
    "ax2.grid(True, alpha=0.3)\n",
    "\n",
    "# Add a horizontal line at y=0 for reference in both plots\n",
    "ax1.axhline(y=0, color='k', linestyle='--', alpha=0.5)\n",
    "ax2.axhline(y=0, color='k', linestyle='--', alpha=0.5)\n",
    "\n",
    "plt.tight_layout()\n",
    "plt.show()\n",
    "\n",
    "# Print the values for reference\n",
    "print(\"Normalized year scores (centered):\", [round(score - mean_of_means, 4) for score in normalized_year_scores])\n",
    "print(\"Years:\", years)"
   ]
  },
  {
   "cell_type": "code",
   "execution_count": null,
   "metadata": {},
   "outputs": [
    {
     "data": {
      "text/plain": [
       "{110: 0.49, 111: 0.49, 112: 0.49, 113: 0.49, 114: 0.49, 115: 0.49, 116: 0.49}"
      ]
     },
     "execution_count": 80,
     "metadata": {},
     "output_type": "execute_result"
    }
   ],
   "source": [
    "default_values"
   ]
  },
  {
   "cell_type": "code",
   "execution_count": null,
   "metadata": {},
   "outputs": [
    {
     "data": {
      "text/plain": [
       "0"
      ]
     },
     "execution_count": 81,
     "metadata": {},
     "output_type": "execute_result"
    }
   ],
   "source": [
    "mean_of_means"
   ]
  },
  {
   "cell_type": "code",
   "execution_count": null,
   "metadata": {},
   "outputs": [
    {
     "name": "stdout",
     "output_type": "stream",
     "text": [
      "Year:  2007\n",
      "phrase_clean\n",
      "new mexico           30\n",
      "natural gas          20\n",
      "health care          17\n",
      "health insurance     14\n",
      "god bless            12\n",
      "student loan         11\n",
      "made order            9\n",
      "civil war             8\n",
      "white house           7\n",
      "renewable energy      6\n",
      "consumer product      6\n",
      "homeland security     5\n",
      "solve problem         5\n",
      "get health            5\n",
      "health safety         5\n",
      "dtype: int64\n",
      "\n",
      "\n",
      "----\n",
      "\n",
      "\n",
      "Year:  2008\n",
      "phrase_clean\n",
      "new mexico          29\n",
      "health care         17\n",
      "renewable energy    15\n",
      "made order          15\n",
      "god bless           12\n",
      "health insurance    11\n",
      "civil war           10\n",
      "consumer product     9\n",
      "student loan         9\n",
      "white house          8\n",
      "solve problem        6\n",
      "get health           6\n",
      "power plant          6\n",
      "natural gas          5\n",
      "gas price            4\n",
      "dtype: int64\n",
      "\n",
      "\n",
      "----\n",
      "\n",
      "\n",
      "Year:  2009\n",
      "phrase_clean\n",
      "native american      32\n",
      "new mexico           26\n",
      "rhode island         24\n",
      "look forward         23\n",
      "one thing            17\n",
      "health care          15\n",
      "hard work            15\n",
      "peace mind           12\n",
      "health insurance     11\n",
      "white house          11\n",
      "general motor         9\n",
      "go back               8\n",
      "energy efficiency     8\n",
      "solve problem         6\n",
      "natural resource      6\n",
      "dtype: int64\n",
      "\n",
      "\n",
      "----\n",
      "\n",
      "\n",
      "Year:  2010\n",
      "phrase_clean\n",
      "native american      36\n",
      "look forward         31\n",
      "new mexico           30\n",
      "rhode island         28\n",
      "peace mind           24\n",
      "hard work            17\n",
      "one thing            17\n",
      "general motor        17\n",
      "energy efficiency    14\n",
      "natural gas          13\n",
      "health care          13\n",
      "health insurance     12\n",
      "special deal         10\n",
      "go back              10\n",
      "white house           9\n",
      "dtype: int64\n",
      "\n",
      "\n",
      "----\n",
      "\n",
      "\n",
      "Year:  2011\n",
      "phrase_clean\n",
      "national park         68\n",
      "native american       41\n",
      "puerto rico           35\n",
      "saudi arabia          24\n",
      "breast cancer         22\n",
      "family farm           21\n",
      "small business        19\n",
      "drinking water        14\n",
      "american samoa        14\n",
      "natural gas           12\n",
      "clean air             10\n",
      "public safety          7\n",
      "renewable energy       5\n",
      "medical device         5\n",
      "federal government     4\n",
      "dtype: int64\n",
      "\n",
      "\n",
      "----\n",
      "\n",
      "\n",
      "Year:  2012\n",
      "phrase_clean\n",
      "puerto rico        44\n",
      "small business     39\n",
      "native american    33\n",
      "saudi arabia       31\n",
      "family farm        24\n",
      "drinking water     19\n",
      "breast cancer      17\n",
      "american samoa     15\n",
      "national park      11\n",
      "natural gas        10\n",
      "clean air          10\n",
      "public safety       8\n",
      "advisory board      6\n",
      "drive cost          6\n",
      "medical device      6\n",
      "dtype: int64\n",
      "\n",
      "\n",
      "----\n",
      "\n",
      "\n",
      "Year:  2013\n",
      "phrase_clean\n",
      "side effect          117\n",
      "south africa          59\n",
      "puerto rico           56\n",
      "native american       43\n",
      "american samoa        24\n",
      "marine corp           22\n",
      "drinking water        21\n",
      "health care           16\n",
      "breast cancer         16\n",
      "natural gas           13\n",
      "energy efficiency     12\n",
      "pay bill               7\n",
      "child care             6\n",
      "property right         6\n",
      "check balance          6\n",
      "dtype: int64\n",
      "\n",
      "\n",
      "----\n",
      "\n",
      "\n",
      "Year:  2014\n",
      "phrase_clean\n",
      "south africa         51\n",
      "native american      47\n",
      "puerto rico          47\n",
      "health care          22\n",
      "marine corp          21\n",
      "drinking water       20\n",
      "energy efficiency    17\n",
      "american samoa       15\n",
      "natural gas          15\n",
      "breast cancer         9\n",
      "pay bill              9\n",
      "renewable energy      8\n",
      "equal opportunity     7\n",
      "clean energy          7\n",
      "tax credit            7\n",
      "dtype: int64\n",
      "\n",
      "\n",
      "----\n",
      "\n",
      "\n",
      "Year:  2015\n",
      "phrase_clean\n",
      "south africa         72\n",
      "puerto rico          67\n",
      "middle east          47\n",
      "small business       39\n",
      "water system         39\n",
      "breast cancer        35\n",
      "across country       21\n",
      "buy america          21\n",
      "clean air            20\n",
      "drinking water       18\n",
      "marine corp          17\n",
      "energy efficiency    11\n",
      "wall street          11\n",
      "property right       10\n",
      "renewable energy     10\n",
      "dtype: int64\n",
      "\n",
      "\n",
      "----\n",
      "\n",
      "\n",
      "Year:  2016\n",
      "phrase_clean\n",
      "puerto rico          107\n",
      "south africa          92\n",
      "middle east           56\n",
      "breast cancer         47\n",
      "small business        36\n",
      "across country        33\n",
      "buy america           30\n",
      "clean air             28\n",
      "marine corp           27\n",
      "water system          26\n",
      "drinking water        20\n",
      "energy efficiency     17\n",
      "north korea           15\n",
      "renewable energy      13\n",
      "islamic republic      12\n",
      "dtype: int64\n",
      "\n",
      "\n",
      "----\n",
      "\n",
      "\n",
      "Year:  2017\n",
      "phrase_clean\n",
      "new mexico           80\n",
      "small business       51\n",
      "middle east          50\n",
      "financial service    47\n",
      "marine corp          32\n",
      "clean air            31\n",
      "health benefit       24\n",
      "health care          20\n",
      "energy efficiency    16\n",
      "drinking water       15\n",
      "home care            13\n",
      "renewable energy     12\n",
      "world war            11\n",
      "national guard        9\n",
      "donald trump          8\n",
      "dtype: int64\n",
      "\n",
      "\n",
      "----\n",
      "\n",
      "\n",
      "Year:  2018\n",
      "phrase_clean\n",
      "small business       86\n",
      "new mexico           84\n",
      "middle east          48\n",
      "financial service    36\n",
      "clean air            34\n",
      "marine corp          32\n",
      "health benefit       25\n",
      "drinking water       21\n",
      "energy efficiency    16\n",
      "home care            14\n",
      "health care          13\n",
      "national guard       11\n",
      "world war            11\n",
      "renewable energy     11\n",
      "president trump      10\n",
      "dtype: int64\n",
      "\n",
      "\n",
      "----\n",
      "\n",
      "\n",
      "Year:  2019\n",
      "phrase_clean\n",
      "law enforcement          164\n",
      "hong kong                117\n",
      "small business            86\n",
      "new deal                  63\n",
      "ban act                   52\n",
      "main street               46\n",
      "intellectual property     31\n",
      "clean air                 23\n",
      "drinking water            22\n",
      "natural gas               20\n",
      "new mexican               18\n",
      "public safety             18\n",
      "medical device            17\n",
      "living wage               14\n",
      "god bless                 13\n",
      "dtype: int64\n",
      "\n",
      "\n",
      "----\n",
      "\n",
      "\n",
      "Year:  2020\n",
      "phrase_clean\n",
      "law enforcement          194\n",
      "small business           131\n",
      "hong kong                124\n",
      "new deal                  73\n",
      "main street               58\n",
      "intellectual property     55\n",
      "health safety             38\n",
      "public safety             26\n",
      "natural gas               24\n",
      "drinking water            24\n",
      "health care               21\n",
      "clean air                 20\n",
      "sexual orientation        18\n",
      "god bless                 17\n",
      "climate change            17\n",
      "dtype: int64\n",
      "\n",
      "\n",
      "----\n",
      "\n",
      "\n"
     ]
    }
   ],
   "source": [
    "import pickle\n",
    "\n",
    "for year in phrase_count_by_year:\n",
    "    print(\"Year: \", year)\n",
    "    print(phrase_count_by_year[year].sum(axis=0).sort_values(ascending=False).head(15))\n",
    "    print(\"\\n\\n----\\n\\n\")"
   ]
  }
 ],
 "metadata": {
  "kernelspec": {
   "display_name": "research",
   "language": "python",
   "name": "python3"
  },
  "language_info": {
   "codemirror_mode": {
    "name": "ipython",
    "version": 3
   },
   "file_extension": ".py",
   "mimetype": "text/x-python",
   "name": "python",
   "nbconvert_exporter": "python",
   "pygments_lexer": "ipython3",
   "version": "3.12.3"
  }
 },
 "nbformat": 4,
 "nbformat_minor": 2
}
