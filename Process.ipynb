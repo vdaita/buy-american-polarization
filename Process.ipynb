{
 "cells": [
  {
   "cell_type": "code",
   "execution_count": 2,
   "metadata": {},
   "outputs": [],
   "source": [
    "import pandas as pd\n",
    "from tqdm import tqdm\n",
    "from rapidfuzz import fuzz"
   ]
  },
  {
   "cell_type": "code",
   "execution_count": 3,
   "metadata": {},
   "outputs": [
    {
     "name": "stderr",
     "output_type": "stream",
     "text": [
      "/var/folders/rw/s7c9z30x7fj_2gcngv0yhv6w0000gn/T/ipykernel_15394/2812926201.py:1: DtypeWarning: Columns (300,304,325,328) have mixed types. Specify dtype option on import or set low_memory=False.\n",
      "  website_df = pd.read_csv(\"website_data.csv\")\n"
     ]
    }
   ],
   "source": [
    "website_df = pd.read_csv(\"website_data.csv\")"
   ]
  },
  {
   "cell_type": "code",
   "execution_count": null,
   "metadata": {},
   "outputs": [],
   "source": [
    "from openai import OpenAI\n",
    "from dotenv import load_dotenv\n",
    "\n",
    "load_dotenv(\".env\")\n",
    "\n",
    "client = OpenAI()"
   ]
  },
  {
   "cell_type": "code",
   "execution_count": null,
   "metadata": {},
   "outputs": [
    {
     "data": {
      "text/plain": [
       "364"
      ]
     },
     "execution_count": 4,
     "metadata": {},
     "output_type": "execute_result"
    }
   ],
   "source": [
    "categories = list(website_df[\"category\"].unique())"
   ]
  },
  {
   "cell_type": "code",
   "execution_count": null,
   "metadata": {},
   "outputs": [
    {
     "ename": "NameError",
     "evalue": "name 'client' is not defined",
     "output_type": "error",
     "traceback": [
      "\u001b[0;31m---------------------------------------------------------------------------\u001b[0m",
      "\u001b[0;31mNameError\u001b[0m                                 Traceback (most recent call last)",
      "Cell \u001b[0;32mIn[7], line 1\u001b[0m\n\u001b[0;32m----> 1\u001b[0m categories_response \u001b[38;5;241m=\u001b[39m \u001b[43mclient\u001b[49m\u001b[38;5;241m.\u001b[39mchat\u001b[38;5;241m.\u001b[39mcompletions\u001b[38;5;241m.\u001b[39mcreate(\n\u001b[1;32m      2\u001b[0m     messages\u001b[38;5;241m=\u001b[39m[\n\u001b[1;32m      3\u001b[0m         {\n\u001b[1;32m      4\u001b[0m             \u001b[38;5;124m\"\u001b[39m\u001b[38;5;124mrole\u001b[39m\u001b[38;5;124m\"\u001b[39m: \u001b[38;5;124m\"\u001b[39m\u001b[38;5;124msystem\u001b[39m\u001b[38;5;124m\"\u001b[39m,\n\u001b[1;32m      5\u001b[0m             \u001b[38;5;124m\"\u001b[39m\u001b[38;5;124mcontent\u001b[39m\u001b[38;5;124m\"\u001b[39m: \u001b[38;5;124m\"\"\"\u001b[39m\u001b[38;5;124mFor each string (category name) in the categories, create a classification for it that would work. Produce it in a JSON output as follows:\u001b[39m\n\u001b[1;32m      6\u001b[0m \u001b[38;5;124m{\u001b[39m\n\u001b[1;32m      7\u001b[0m \u001b[38;5;124m    \u001b[39m\u001b[38;5;124m\"\u001b[39m\u001b[38;5;124mclassifications\u001b[39m\u001b[38;5;124m\"\u001b[39m\u001b[38;5;124m: [\u001b[39m\n\u001b[1;32m      8\u001b[0m \u001b[38;5;124m        \u001b[39m\u001b[38;5;124m{\u001b[39m\n\u001b[1;32m      9\u001b[0m \u001b[38;5;124m            \u001b[39m\u001b[38;5;124m\"\u001b[39m\u001b[38;5;124moriginal_name\u001b[39m\n\u001b[1;32m     10\u001b[0m \u001b[38;5;124m        }\u001b[39m\n\u001b[1;32m     11\u001b[0m \u001b[38;5;124m    ]\u001b[39m\n\u001b[1;32m     12\u001b[0m \u001b[38;5;124m}\u001b[39m\n\u001b[1;32m     13\u001b[0m \u001b[38;5;124m\"\"\"\u001b[39m\n\u001b[1;32m     14\u001b[0m         }\n\u001b[1;32m     15\u001b[0m     ]\n\u001b[1;32m     16\u001b[0m )\n",
      "\u001b[0;31mNameError\u001b[0m: name 'client' is not defined"
     ]
    }
   ],
   "source": [
    "\n"
   ]
  },
  {
   "cell_type": "code",
   "execution_count": 14,
   "metadata": {},
   "outputs": [],
   "source": [
    "selected_cols = reversed([col for col in website_df.columns if col.startswith(\"1\") or col.startswith(\"2\")])\n",
    "website_df = website_df[selected_cols]"
   ]
  },
  {
   "cell_type": "code",
   "execution_count": 15,
   "metadata": {},
   "outputs": [
    {
     "name": "stderr",
     "output_type": "stream",
     "text": [
      "[nltk_data] Downloading package stopwords to /Users/vijay/nltk_data...\n",
      "[nltk_data]   Unzipping corpora/stopwords.zip.\n",
      "100%|██████████| 318/318 [00:24<00:00, 13.08it/s]\n"
     ]
    }
   ],
   "source": [
    "import nltk\n",
    "from nltk.corpus import stopwords\n",
    "\n",
    "nltk.download('stopwords')\n",
    "\n",
    "stop_words = set(stopwords.words('english'))\n",
    "\n",
    "def remove_stopwords(text):\n",
    "    if isinstance(text, str):\n",
    "        return ' '.join([word for word in text.split() if word.lower() not in stop_words])\n",
    "    return text\n",
    "\n",
    "for col in tqdm(website_df.select_dtypes(include=['object']).columns):\n",
    "    website_df[col] = website_df[col].apply(remove_stopwords)"
   ]
  },
  {
   "cell_type": "code",
   "execution_count": 16,
   "metadata": {},
   "outputs": [
    {
     "name": "stderr",
     "output_type": "stream",
     "text": [
      "/var/folders/rw/s7c9z30x7fj_2gcngv0yhv6w0000gn/T/ipykernel_79077/4171444177.py:5: FutureWarning: Downcasting object dtype arrays on .fillna, .ffill, .bfill is deprecated and will change in a future version. Call result.infer_objects(copy=False) instead. To opt-in to the future behavior, set `pd.set_option('future.no_silent_downcasting', True)`\n",
      "  df = df.T.ffill(axis=0).T  # Forward fill NaN values\n"
     ]
    }
   ],
   "source": [
    "import numpy as np\n",
    "def propagate_str_value_forward(df):\n",
    "    df = df.copy()\n",
    "    df.replace('', np.nan, inplace=True)  # Replace empty strings with NaN\n",
    "    df = df.T.ffill(axis=0).T  # Forward fill NaN values\n",
    "    df.fillna('', inplace=True)  # Fill remaining NaN with empty strings\n",
    "    return df\n",
    "website_df = propagate_str_value_forward(website_df)"
   ]
  },
  {
   "cell_type": "code",
   "execution_count": 22,
   "metadata": {},
   "outputs": [
    {
     "name": "stderr",
     "output_type": "stream",
     "text": [
      "100%|██████████| 500/500 [00:09<00:00, 54.86it/s]\n",
      "100%|██████████| 5189/5189 [00:01<00:00, 4024.90it/s]\n"
     ]
    },
    {
     "name": "stdout",
     "output_type": "stream",
     "text": [
      "Year 2007 score: 0.02211305747436669\n"
     ]
    },
    {
     "name": "stderr",
     "output_type": "stream",
     "text": [
      "100%|██████████| 500/500 [00:10<00:00, 49.45it/s]\n",
      "100%|██████████| 5189/5189 [00:01<00:00, 4240.34it/s]\n"
     ]
    },
    {
     "name": "stdout",
     "output_type": "stream",
     "text": [
      "Year 2008 score: 0.022681932239309085\n"
     ]
    },
    {
     "name": "stderr",
     "output_type": "stream",
     "text": [
      "100%|██████████| 500/500 [00:11<00:00, 43.98it/s]\n",
      "100%|██████████| 5189/5189 [00:01<00:00, 3883.19it/s]\n"
     ]
    },
    {
     "name": "stdout",
     "output_type": "stream",
     "text": [
      "Year 2009 score: 0.012361923510437484\n"
     ]
    },
    {
     "name": "stderr",
     "output_type": "stream",
     "text": [
      "100%|██████████| 500/500 [00:14<00:00, 35.25it/s]\n",
      "100%|██████████| 5189/5189 [00:01<00:00, 3944.26it/s]\n"
     ]
    },
    {
     "name": "stdout",
     "output_type": "stream",
     "text": [
      "Year 2010 score: 0.014282424027161712\n"
     ]
    },
    {
     "name": "stderr",
     "output_type": "stream",
     "text": [
      "100%|██████████| 500/500 [00:18<00:00, 27.00it/s]\n",
      "100%|██████████| 5189/5189 [00:01<00:00, 4262.98it/s]\n"
     ]
    },
    {
     "name": "stdout",
     "output_type": "stream",
     "text": [
      "Year 2011 score: 0.012830681477206198\n"
     ]
    },
    {
     "name": "stderr",
     "output_type": "stream",
     "text": [
      "100%|██████████| 500/500 [00:19<00:00, 25.03it/s]\n",
      "100%|██████████| 5189/5189 [00:01<00:00, 4171.35it/s]\n"
     ]
    },
    {
     "name": "stdout",
     "output_type": "stream",
     "text": [
      "Year 2012 score: 0.013156273590929742\n"
     ]
    },
    {
     "name": "stderr",
     "output_type": "stream",
     "text": [
      "100%|██████████| 500/500 [00:22<00:00, 22.58it/s]\n",
      "100%|██████████| 5189/5189 [00:01<00:00, 4175.11it/s]\n"
     ]
    },
    {
     "name": "stdout",
     "output_type": "stream",
     "text": [
      "Year 2013 score: 0.01755008995215469\n"
     ]
    },
    {
     "name": "stderr",
     "output_type": "stream",
     "text": [
      "100%|██████████| 500/500 [00:25<00:00, 19.44it/s]\n",
      "100%|██████████| 5189/5189 [00:01<00:00, 3902.40it/s]\n"
     ]
    },
    {
     "name": "stdout",
     "output_type": "stream",
     "text": [
      "Year 2014 score: 0.018381438315544445\n"
     ]
    },
    {
     "name": "stderr",
     "output_type": "stream",
     "text": [
      "100%|██████████| 500/500 [00:31<00:00, 16.07it/s]\n",
      "100%|██████████| 5189/5189 [00:01<00:00, 3252.86it/s]\n"
     ]
    },
    {
     "name": "stdout",
     "output_type": "stream",
     "text": [
      "Year 2015 score: 0.01930507873322951\n"
     ]
    },
    {
     "name": "stderr",
     "output_type": "stream",
     "text": [
      "100%|██████████| 500/500 [00:35<00:00, 13.94it/s]\n",
      "100%|██████████| 5189/5189 [00:01<00:00, 3320.74it/s]\n"
     ]
    },
    {
     "name": "stdout",
     "output_type": "stream",
     "text": [
      "Year 2016 score: 0.02252135749695547\n"
     ]
    },
    {
     "name": "stderr",
     "output_type": "stream",
     "text": [
      "100%|██████████| 500/500 [00:37<00:00, 13.19it/s]\n",
      "100%|██████████| 5189/5189 [00:01<00:00, 3235.75it/s]\n"
     ]
    },
    {
     "name": "stdout",
     "output_type": "stream",
     "text": [
      "Year 2017 score: 0.04082337250830147\n"
     ]
    },
    {
     "name": "stderr",
     "output_type": "stream",
     "text": [
      "100%|██████████| 500/500 [00:59<00:00,  8.44it/s]\n",
      "100%|██████████| 5189/5189 [00:01<00:00, 3497.39it/s]\n"
     ]
    },
    {
     "name": "stdout",
     "output_type": "stream",
     "text": [
      "Year 2018 score: 0.044316911919615974\n"
     ]
    },
    {
     "name": "stderr",
     "output_type": "stream",
     "text": [
      "100%|██████████| 500/500 [00:47<00:00, 10.53it/s]\n",
      "100%|██████████| 5189/5189 [00:01<00:00, 3281.81it/s]\n"
     ]
    },
    {
     "name": "stdout",
     "output_type": "stream",
     "text": [
      "Year 2019 score: 0.061357574713792294\n"
     ]
    },
    {
     "name": "stderr",
     "output_type": "stream",
     "text": [
      "100%|██████████| 500/500 [00:56<00:00,  8.91it/s]\n",
      "100%|██████████| 5189/5189 [00:01<00:00, 3436.84it/s]"
     ]
    },
    {
     "name": "stdout",
     "output_type": "stream",
     "text": [
      "Year 2020 score: 0.07134903347722397\n"
     ]
    },
    {
     "name": "stderr",
     "output_type": "stream",
     "text": [
      "\n"
     ]
    }
   ],
   "source": [
    "import re\n",
    "\n",
    "session_year_map = {2007: 110, 2008: 110, 2009: 111, 2010: 111, 2011: 112, 2012: 112, 2013: 113, 2014: 113, 2015: 114, 2016: 114, 2017: 115, 2018: 115, 2019: 116, 2020: 116}\n",
    "all_website_scores = []\n",
    "normalized_year_scores = []\n",
    "\n",
    "for year in session_year_map:\n",
    "    session = session_year_map[year]\n",
    "    keywords_df = pd.read_csv(f\"Partisan Index/{session}_congress_alpha_beta.csv\")\n",
    "    clean_phrases = keywords_df[\"phrase_clean\"]\n",
    "    clean_phrases = clean_phrases.dropna()\n",
    "    \n",
    "    year_score = 0\n",
    "\n",
    "    valid_columns = [col for col in website_df.columns if str(year) in col]\n",
    "    subset = website_df[valid_columns[-1]] # select the last value within a given year\n",
    "\n",
    "    websites_count = subset.count()\n",
    "\n",
    "    subset = subset.fillna(\"\")\n",
    "    subset = subset.astype(str)\n",
    "\n",
    "    phrase_count = pd.DataFrame(0, index=website_df.index, columns=keywords_df[\"phrase_clean\"])\n",
    "    for phrase in tqdm(clean_phrases, total=len(clean_phrases)):\n",
    "        pattern = re.escape(phrase)\n",
    "        phrase_count[phrase] = subset.str.count(pattern, flags=re.IGNORECASE)\n",
    "\n",
    "    y_n_denominator = sum(beta * beta for beta in keywords_df[\"beta\"])\n",
    "\n",
    "    website_scores = []\n",
    "\n",
    "    for website in tqdm(phrase_count.index):\n",
    "        website_stats = phrase_count.loc[website]\n",
    "        phrase_count_sum = website_stats.sum()\n",
    "        if phrase_count_sum == 0:\n",
    "            continue\n",
    "        y_n_numerator = 0\n",
    "        for phrase, beta, alpha in zip(keywords_df[\"phrase_clean\"], keywords_df[\"beta\"], keywords_df[\"alpha\"]):\n",
    "            y_n_numerator += beta * (website_stats[phrase] / phrase_count_sum - alpha)\n",
    "        year_score += y_n_numerator / y_n_denominator\n",
    "        website_scores.append(y_n_numerator / y_n_denominator)\n",
    "\n",
    "    all_website_scores.append(website_scores)\n",
    "    normalized_year_scores.append(year_score / websites_count)\n",
    "    print(f\"Year {year} score: {year_score / websites_count}\")\n",
    "    "
   ]
  },
  {
   "cell_type": "code",
   "execution_count": 25,
   "metadata": {},
   "outputs": [
    {
     "name": "stdout",
     "output_type": "stream",
     "text": [
      "[0.6482748883304444, 0.6293932962020041, 0.25761454255285215, 0.2529402671567991, 0.37194640326940226, 0.31030865301515664, 0.39253196880056324, 0.3941375347907446, 0.305408699837585, 0.3051261724587518, 0.6140071882480489, 0.6477759322560224, 0.6578191222931165, 0.6450002346921868]\n"
     ]
    }
   ],
   "source": [
    "import numpy as np\n",
    "print([np.mean(scores) for scores in all_website_scores])"
   ]
  },
  {
   "cell_type": "code",
   "execution_count": 24,
   "metadata": {},
   "outputs": [
    {
     "data": {
      "image/png": "[encoded data removed]",
      "text/plain": [
       "<Figure size 1000x600 with 1 Axes>"
      ]
     },
     "metadata": {},
     "output_type": "display_data"
    }
   ],
   "source": [
    "import matplotlib.pyplot as plt\n",
    "\n",
    "# Plotting the normalized session scores\n",
    "plt.figure(figsize=(10, 6))\n",
    "years = list(session_year_map.keys())\n",
    "\n",
    "plt.boxplot(all_website_scores, positions=range(len(years)), widths=0.6, showfliers=False)\n",
    "plt.xticks(range(len(years)), years, rotation=45)\n",
    "plt.plot(range(len(years)), normalized_year_scores, marker='o', color='r', linestyle='-', linewidth=2, markersize=5)\n",
    "\n",
    "plt.xlabel('Year')\n",
    "plt.ylabel('Normalized Session Score')\n",
    "plt.title('Normalized Session Scores by Year')\n",
    "plt.grid(True)\n",
    "plt.show()"
   ]
  }
 ],
 "metadata": {
  "kernelspec": {
   "display_name": "research",
   "language": "python",
   "name": "python3"
  },
  "language_info": {
   "codemirror_mode": {
    "name": "ipython",
    "version": 3
   },
   "file_extension": ".py",
   "mimetype": "text/x-python",
   "name": "python",
   "nbconvert_exporter": "python",
   "pygments_lexer": "ipython3",
   "version": "3.12.3"
  }
 },
 "nbformat": 4,
 "nbformat_minor": 2
}
