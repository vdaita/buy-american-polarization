{
 "cells": [
  {
   "cell_type": "code",
   "execution_count": 27,
   "metadata": {},
   "outputs": [],
   "source": [
    "import pandas as pd\n",
    "import numpy as np\n",
    "import requests\n",
    "from dotenv import load_dotenv\n",
    "import os\n",
    "from rich import print\n",
    "from functools import lru_cache\n",
    "from tqdm import tqdm\n",
    "\n",
    "load_dotenv(\".env\")\n",
    "DATA_GOV_API_KEY = os.getenv(\"DATA_GOV_API_KEY\")"
   ]
  },
  {
   "cell_type": "code",
   "execution_count": 39,
   "metadata": {},
   "outputs": [],
   "source": [
    "@lru_cache(maxsize=10000)\n",
    "def load_employer_contributions(employer_name: str, election_cycle: str, debug: bool = False):\n",
    "    try:\n",
    "        employer_data_url = f\"https://api.open.fec.gov/v1/schedules/schedule_a\"\n",
    "        employer_data_params = {\n",
    "            \"api_key\": DATA_GOV_API_KEY,\n",
    "            \"contributor_employer\": employer_name,\n",
    "            \"two_year_transaction_period\": election_cycle,\n",
    "            \"per_page\": 100,\n",
    "            \"sort\": \"-contribution_receipt_amount\",\n",
    "            \"page\": 1\n",
    "        }\n",
    "        employer_response = requests.get(employer_data_url, params=employer_data_params)\n",
    "        employer_data = employer_response.json()\n",
    "        if debug:\n",
    "            print(employer_data)\n",
    "        partisan_score = 0\n",
    "        partisan_donations = 0\n",
    "        for contribution in employer_data[\"results\"]:\n",
    "            party_name = contribution[\"committee\"][\"party\"]\n",
    "            amount = contribution[\"contribution_receipt_amount\"]\n",
    "            if party_name:\n",
    "                if \"democratic\" in party_name.lower():\n",
    "                    partisan_score += amount * 1\n",
    "                    partisan_donations += amount\n",
    "                elif \"republican\" in party_name.lower():\n",
    "                    partisan_score += amount * -1\n",
    "                    partisan_donations += amount\n",
    "            # otherwise, we ignore the donation\n",
    "\n",
    "        return ((partisan_score / partisan_donations) if partisan_donations > 0 else 0), employer_data\n",
    "    except Exception as e:\n",
    "        if debug:\n",
    "            print(f\"Error fetching data from API: {e}\")\n",
    "        return None, None"
   ]
  },
  {
   "cell_type": "code",
   "execution_count": 40,
   "metadata": {},
   "outputs": [
    {
     "name": "stderr",
     "output_type": "stream",
     "text": [
      "/var/folders/rw/s7c9z30x7fj_2gcngv0yhv6w0000gn/T/ipykernel_20585/390502004.py:1: DtypeWarning: Columns (300,304,325,328) have mixed types. Specify dtype option on import or set low_memory=False.\n",
      "  website_df = pd.read_csv(\"website_data.csv\")\n"
     ]
    }
   ],
   "source": [
    "website_df = pd.read_csv(\"website_data.csv\")\n",
    "scores_dict = {\"names\": [], \"scores\": [], \"year\": [], \"employer_data_json\": []}"
   ]
  },
  {
   "cell_type": "code",
   "execution_count": 42,
   "metadata": {},
   "outputs": [
    {
     "name": "stderr",
     "output_type": "stream",
     "text": [
      "Processing names: 100%|██████████| 5189/5189 [2:05:32<00:00,  1.45s/name]   \n"
     ]
    }
   ],
   "source": [
    "import json\n",
    "\n",
    "names_column = website_df[\"company_name\"]\n",
    "years = [\"2020\", \"2016\", \"2012\", \"2008\"]\n",
    "\n",
    "for name in tqdm(names_column, desc=\"Processing names\", unit=\"name\"):\n",
    "    for year in tqdm(years, desc=\"Processing years\", unit=\"year\", leave=False):\n",
    "        name = name.strip()\n",
    "        if name:\n",
    "            score, json_data = load_employer_contributions(name, year, debug=False)\n",
    "            if score is not None:\n",
    "                scores_dict[\"names\"].append(name)\n",
    "                scores_dict[\"scores\"].append(score)\n",
    "                scores_dict[\"year\"].append(year)\n",
    "                scores_dict[\"employer_data_json\"].append(json.dumps(json_data))\n",
    "            else:\n",
    "                scores_dict[\"names\"].append(name)\n",
    "                scores_dict[\"scores\"].append(np.nan)\n",
    "                scores_dict[\"year\"].append(year)\n",
    "                scores_dict[\"employer_data_json\"].append(json.dumps(json_data))\n",
    "                # print(f\"Failed to fetch score for {name} in {year}\")"
   ]
  },
  {
   "cell_type": "code",
   "execution_count": null,
   "metadata": {},
   "outputs": [
    {
     "data": {
      "text/plain": [
       "{'names': ['11 Industries',\n",
       "  '11 Industries',\n",
       "  '11 Industries',\n",
       "  '11 Industries',\n",
       "  '11 Wells Spirits',\n",
       "  '11 Wells Spirits',\n",
       "  '11 Wells Spirits',\n",
       "  '11 Wells Spirits',\n",
       "  '14th Rose',\n",
       "  '14th Rose',\n",
       "  '14th Rose',\n",
       "  '14th Rose',\n",
       "  '1919 Cookware',\n",
       "  '1919 Cookware'],\n",
       " 'scores': [0, 0, 0, 0, 0, 0, 0, 0, 0, 0, 0, 0, 0, 0],\n",
       " 'year': ['2020',\n",
       "  '2016',\n",
       "  '2012',\n",
       "  '2008',\n",
       "  '2020',\n",
       "  '2016',\n",
       "  '2012',\n",
       "  '2008',\n",
       "  '2020',\n",
       "  '2016',\n",
       "  '2012',\n",
       "  '2008',\n",
       "  '2020',\n",
       "  '2016']}"
      ]
     },
     "execution_count": 31,
     "metadata": {},
     "output_type": "execute_result"
    }
   ],
   "source": [
    "scores_dict"
   ]
  },
  {
   "cell_type": "code",
   "execution_count": 43,
   "metadata": {},
   "outputs": [],
   "source": [
    "scores_df = pd.DataFrame(scores_dict)\n",
    "scores_df[\"score\"] = scores_df[\"scores\"].astype(float)\n",
    "scores_df.to_csv(\"employer_partisanship_scores.csv\", index=False)"
   ]
  }
 ],
 "metadata": {
  "kernelspec": {
   "display_name": "research",
   "language": "python",
   "name": "python3"
  },
  "language_info": {
   "codemirror_mode": {
    "name": "ipython",
    "version": 3
   },
   "file_extension": ".py",
   "mimetype": "text/x-python",
   "name": "python",
   "nbconvert_exporter": "python",
   "pygments_lexer": "ipython3",
   "version": "3.12.3"
  }
 },
 "nbformat": 4,
 "nbformat_minor": 2
}
